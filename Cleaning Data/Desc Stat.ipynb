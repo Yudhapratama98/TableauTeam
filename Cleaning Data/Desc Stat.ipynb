{
  "cells": [
    {
      "cell_type": "code",
      "source": [
        "from google.colab import drive\n",
        "drive.mount('/content/drive')"
      ],
      "metadata": {
        "colab": {
          "base_uri": "https://localhost:8080/"
        },
        "id": "_kmsJKColOL8",
        "outputId": "7ce3baba-a24a-487c-9604-c680eef7edb2"
      },
      "execution_count": null,
      "outputs": [
        {
          "output_type": "stream",
          "name": "stdout",
          "text": [
            "Mounted at /content/drive\n"
          ]
        }
      ]
    },
    {
      "cell_type": "markdown",
      "metadata": {
        "id": "KEKCR5dSUxSu"
      },
      "source": [
        "# **Modul 2: Data Analysis**\n",
        "# Descriptive Statistics"
      ]
    },
    {
      "cell_type": "code",
      "execution_count": null,
      "metadata": {
        "id": "gdaNXs7tUxSx"
      },
      "outputs": [],
      "source": [
        "import numpy as np\n",
        "import pandas as pd\n",
        "import scipy.stats as stats\n",
        "import seaborn as sns\n",
        "import matplotlib.pyplot as plt"
      ]
    },
    {
      "cell_type": "markdown",
      "metadata": {
        "id": "T-XuAQAwUxS4"
      },
      "source": [
        "# **No.1**"
      ]
    },
    {
      "cell_type": "code",
      "source": [
        "# Load dataset all_cars.csv yang telah Anda buat.\n",
        "# Ubah nama kolom 'Unnamed: 0' menjadi 'id' jika ada!\n",
        "# Jika tidak ada, lakukan reset index. Kemudian kolom paling kiri bernama 'index' ubah menjadi 'id'!\n",
        "\n",
        "# Load dataset: all_cars.csv\n",
        "\n",
        "df_car = pd.read_csv('/content/drive/MyDrive/JCDSVL-04, 06, JCDSAHLS-01 Practice Session/Modul 2/Week 3/Monday, June 06, 2022/all_cars.csv')\n",
        "df_car"
      ],
      "metadata": {
        "colab": {
          "base_uri": "https://localhost:8080/",
          "height": 468
        },
        "id": "TUb-vvmwldXd",
        "outputId": "c1c6680b-a7d0-49da-b354-234f31c2e2d9"
      },
      "execution_count": null,
      "outputs": [
        {
          "output_type": "execute_result",
          "data": {
            "text/plain": [
              "       Unnamed: 0   brand          model  year  price transmission  mileage  \\\n",
              "0               0    Audi             A1  2017  12500       Manual    15735   \n",
              "1               1    Audi             A6  2016  16500    Automatic    36203   \n",
              "2               2    Audi             A1  2016  11000       Manual    29946   \n",
              "3               3    Audi             A4  2017  16800    Automatic    25952   \n",
              "4               4    Audi             A3  2019  17300       Manual     1998   \n",
              "...           ...     ...            ...   ...    ...          ...      ...   \n",
              "22261       22261  Toyota             IQ  2011   5500    Automatic    30000   \n",
              "22262       22262  Toyota  Urban Cruiser  2011   4985       Manual    36154   \n",
              "22263       22263  Toyota  Urban Cruiser  2012   4995       Manual    46000   \n",
              "22264       22264  Toyota  Urban Cruiser  2011   3995       Manual    60700   \n",
              "22265       22265  Toyota  Urban Cruiser  2011   4495       Manual    45128   \n",
              "\n",
              "      fuelType  tax   mpg  engineSize  \n",
              "0       Petrol  150  55.4         1.4  \n",
              "1       Diesel   20  64.2         2.0  \n",
              "2       Petrol   30  55.4         1.4  \n",
              "3       Diesel  145  67.3         2.0  \n",
              "4       Petrol  145  49.6         1.0  \n",
              "...        ...  ...   ...         ...  \n",
              "22261   Petrol   20  58.9         1.0  \n",
              "22262   Petrol  125  50.4         1.3  \n",
              "22263   Diesel  125  57.6         1.4  \n",
              "22264   Petrol  125  50.4         1.3  \n",
              "22265   Petrol  125  50.4         1.3  \n",
              "\n",
              "[22266 rows x 11 columns]"
            ],
            "text/html": [
              "\n",
              "  <div id=\"df-977cc81e-9503-43b5-8cc8-d8e0fa1e716e\">\n",
              "    <div class=\"colab-df-container\">\n",
              "      <div>\n",
              "<style scoped>\n",
              "    .dataframe tbody tr th:only-of-type {\n",
              "        vertical-align: middle;\n",
              "    }\n",
              "\n",
              "    .dataframe tbody tr th {\n",
              "        vertical-align: top;\n",
              "    }\n",
              "\n",
              "    .dataframe thead th {\n",
              "        text-align: right;\n",
              "    }\n",
              "</style>\n",
              "<table border=\"1\" class=\"dataframe\">\n",
              "  <thead>\n",
              "    <tr style=\"text-align: right;\">\n",
              "      <th></th>\n",
              "      <th>Unnamed: 0</th>\n",
              "      <th>brand</th>\n",
              "      <th>model</th>\n",
              "      <th>year</th>\n",
              "      <th>price</th>\n",
              "      <th>transmission</th>\n",
              "      <th>mileage</th>\n",
              "      <th>fuelType</th>\n",
              "      <th>tax</th>\n",
              "      <th>mpg</th>\n",
              "      <th>engineSize</th>\n",
              "    </tr>\n",
              "  </thead>\n",
              "  <tbody>\n",
              "    <tr>\n",
              "      <th>0</th>\n",
              "      <td>0</td>\n",
              "      <td>Audi</td>\n",
              "      <td>A1</td>\n",
              "      <td>2017</td>\n",
              "      <td>12500</td>\n",
              "      <td>Manual</td>\n",
              "      <td>15735</td>\n",
              "      <td>Petrol</td>\n",
              "      <td>150</td>\n",
              "      <td>55.4</td>\n",
              "      <td>1.4</td>\n",
              "    </tr>\n",
              "    <tr>\n",
              "      <th>1</th>\n",
              "      <td>1</td>\n",
              "      <td>Audi</td>\n",
              "      <td>A6</td>\n",
              "      <td>2016</td>\n",
              "      <td>16500</td>\n",
              "      <td>Automatic</td>\n",
              "      <td>36203</td>\n",
              "      <td>Diesel</td>\n",
              "      <td>20</td>\n",
              "      <td>64.2</td>\n",
              "      <td>2.0</td>\n",
              "    </tr>\n",
              "    <tr>\n",
              "      <th>2</th>\n",
              "      <td>2</td>\n",
              "      <td>Audi</td>\n",
              "      <td>A1</td>\n",
              "      <td>2016</td>\n",
              "      <td>11000</td>\n",
              "      <td>Manual</td>\n",
              "      <td>29946</td>\n",
              "      <td>Petrol</td>\n",
              "      <td>30</td>\n",
              "      <td>55.4</td>\n",
              "      <td>1.4</td>\n",
              "    </tr>\n",
              "    <tr>\n",
              "      <th>3</th>\n",
              "      <td>3</td>\n",
              "      <td>Audi</td>\n",
              "      <td>A4</td>\n",
              "      <td>2017</td>\n",
              "      <td>16800</td>\n",
              "      <td>Automatic</td>\n",
              "      <td>25952</td>\n",
              "      <td>Diesel</td>\n",
              "      <td>145</td>\n",
              "      <td>67.3</td>\n",
              "      <td>2.0</td>\n",
              "    </tr>\n",
              "    <tr>\n",
              "      <th>4</th>\n",
              "      <td>4</td>\n",
              "      <td>Audi</td>\n",
              "      <td>A3</td>\n",
              "      <td>2019</td>\n",
              "      <td>17300</td>\n",
              "      <td>Manual</td>\n",
              "      <td>1998</td>\n",
              "      <td>Petrol</td>\n",
              "      <td>145</td>\n",
              "      <td>49.6</td>\n",
              "      <td>1.0</td>\n",
              "    </tr>\n",
              "    <tr>\n",
              "      <th>...</th>\n",
              "      <td>...</td>\n",
              "      <td>...</td>\n",
              "      <td>...</td>\n",
              "      <td>...</td>\n",
              "      <td>...</td>\n",
              "      <td>...</td>\n",
              "      <td>...</td>\n",
              "      <td>...</td>\n",
              "      <td>...</td>\n",
              "      <td>...</td>\n",
              "      <td>...</td>\n",
              "    </tr>\n",
              "    <tr>\n",
              "      <th>22261</th>\n",
              "      <td>22261</td>\n",
              "      <td>Toyota</td>\n",
              "      <td>IQ</td>\n",
              "      <td>2011</td>\n",
              "      <td>5500</td>\n",
              "      <td>Automatic</td>\n",
              "      <td>30000</td>\n",
              "      <td>Petrol</td>\n",
              "      <td>20</td>\n",
              "      <td>58.9</td>\n",
              "      <td>1.0</td>\n",
              "    </tr>\n",
              "    <tr>\n",
              "      <th>22262</th>\n",
              "      <td>22262</td>\n",
              "      <td>Toyota</td>\n",
              "      <td>Urban Cruiser</td>\n",
              "      <td>2011</td>\n",
              "      <td>4985</td>\n",
              "      <td>Manual</td>\n",
              "      <td>36154</td>\n",
              "      <td>Petrol</td>\n",
              "      <td>125</td>\n",
              "      <td>50.4</td>\n",
              "      <td>1.3</td>\n",
              "    </tr>\n",
              "    <tr>\n",
              "      <th>22263</th>\n",
              "      <td>22263</td>\n",
              "      <td>Toyota</td>\n",
              "      <td>Urban Cruiser</td>\n",
              "      <td>2012</td>\n",
              "      <td>4995</td>\n",
              "      <td>Manual</td>\n",
              "      <td>46000</td>\n",
              "      <td>Diesel</td>\n",
              "      <td>125</td>\n",
              "      <td>57.6</td>\n",
              "      <td>1.4</td>\n",
              "    </tr>\n",
              "    <tr>\n",
              "      <th>22264</th>\n",
              "      <td>22264</td>\n",
              "      <td>Toyota</td>\n",
              "      <td>Urban Cruiser</td>\n",
              "      <td>2011</td>\n",
              "      <td>3995</td>\n",
              "      <td>Manual</td>\n",
              "      <td>60700</td>\n",
              "      <td>Petrol</td>\n",
              "      <td>125</td>\n",
              "      <td>50.4</td>\n",
              "      <td>1.3</td>\n",
              "    </tr>\n",
              "    <tr>\n",
              "      <th>22265</th>\n",
              "      <td>22265</td>\n",
              "      <td>Toyota</td>\n",
              "      <td>Urban Cruiser</td>\n",
              "      <td>2011</td>\n",
              "      <td>4495</td>\n",
              "      <td>Manual</td>\n",
              "      <td>45128</td>\n",
              "      <td>Petrol</td>\n",
              "      <td>125</td>\n",
              "      <td>50.4</td>\n",
              "      <td>1.3</td>\n",
              "    </tr>\n",
              "  </tbody>\n",
              "</table>\n",
              "<p>22266 rows × 11 columns</p>\n",
              "</div>\n",
              "      <button class=\"colab-df-convert\" onclick=\"convertToInteractive('df-977cc81e-9503-43b5-8cc8-d8e0fa1e716e')\"\n",
              "              title=\"Convert this dataframe to an interactive table.\"\n",
              "              style=\"display:none;\">\n",
              "        \n",
              "  <svg xmlns=\"http://www.w3.org/2000/svg\" height=\"24px\"viewBox=\"0 0 24 24\"\n",
              "       width=\"24px\">\n",
              "    <path d=\"M0 0h24v24H0V0z\" fill=\"none\"/>\n",
              "    <path d=\"M18.56 5.44l.94 2.06.94-2.06 2.06-.94-2.06-.94-.94-2.06-.94 2.06-2.06.94zm-11 1L8.5 8.5l.94-2.06 2.06-.94-2.06-.94L8.5 2.5l-.94 2.06-2.06.94zm10 10l.94 2.06.94-2.06 2.06-.94-2.06-.94-.94-2.06-.94 2.06-2.06.94z\"/><path d=\"M17.41 7.96l-1.37-1.37c-.4-.4-.92-.59-1.43-.59-.52 0-1.04.2-1.43.59L10.3 9.45l-7.72 7.72c-.78.78-.78 2.05 0 2.83L4 21.41c.39.39.9.59 1.41.59.51 0 1.02-.2 1.41-.59l7.78-7.78 2.81-2.81c.8-.78.8-2.07 0-2.86zM5.41 20L4 18.59l7.72-7.72 1.47 1.35L5.41 20z\"/>\n",
              "  </svg>\n",
              "      </button>\n",
              "      \n",
              "  <style>\n",
              "    .colab-df-container {\n",
              "      display:flex;\n",
              "      flex-wrap:wrap;\n",
              "      gap: 12px;\n",
              "    }\n",
              "\n",
              "    .colab-df-convert {\n",
              "      background-color: #E8F0FE;\n",
              "      border: none;\n",
              "      border-radius: 50%;\n",
              "      cursor: pointer;\n",
              "      display: none;\n",
              "      fill: #1967D2;\n",
              "      height: 32px;\n",
              "      padding: 0 0 0 0;\n",
              "      width: 32px;\n",
              "    }\n",
              "\n",
              "    .colab-df-convert:hover {\n",
              "      background-color: #E2EBFA;\n",
              "      box-shadow: 0px 1px 2px rgba(60, 64, 67, 0.3), 0px 1px 3px 1px rgba(60, 64, 67, 0.15);\n",
              "      fill: #174EA6;\n",
              "    }\n",
              "\n",
              "    [theme=dark] .colab-df-convert {\n",
              "      background-color: #3B4455;\n",
              "      fill: #D2E3FC;\n",
              "    }\n",
              "\n",
              "    [theme=dark] .colab-df-convert:hover {\n",
              "      background-color: #434B5C;\n",
              "      box-shadow: 0px 1px 3px 1px rgba(0, 0, 0, 0.15);\n",
              "      filter: drop-shadow(0px 1px 2px rgba(0, 0, 0, 0.3));\n",
              "      fill: #FFFFFF;\n",
              "    }\n",
              "  </style>\n",
              "\n",
              "      <script>\n",
              "        const buttonEl =\n",
              "          document.querySelector('#df-977cc81e-9503-43b5-8cc8-d8e0fa1e716e button.colab-df-convert');\n",
              "        buttonEl.style.display =\n",
              "          google.colab.kernel.accessAllowed ? 'block' : 'none';\n",
              "\n",
              "        async function convertToInteractive(key) {\n",
              "          const element = document.querySelector('#df-977cc81e-9503-43b5-8cc8-d8e0fa1e716e');\n",
              "          const dataTable =\n",
              "            await google.colab.kernel.invokeFunction('convertToInteractive',\n",
              "                                                     [key], {});\n",
              "          if (!dataTable) return;\n",
              "\n",
              "          const docLinkHtml = 'Like what you see? Visit the ' +\n",
              "            '<a target=\"_blank\" href=https://colab.research.google.com/notebooks/data_table.ipynb>data table notebook</a>'\n",
              "            + ' to learn more about interactive tables.';\n",
              "          element.innerHTML = '';\n",
              "          dataTable['output_type'] = 'display_data';\n",
              "          await google.colab.output.renderOutput(dataTable, element);\n",
              "          const docLink = document.createElement('div');\n",
              "          docLink.innerHTML = docLinkHtml;\n",
              "          element.appendChild(docLink);\n",
              "        }\n",
              "      </script>\n",
              "    </div>\n",
              "  </div>\n",
              "  "
            ]
          },
          "metadata": {},
          "execution_count": 13
        }
      ]
    },
    {
      "cell_type": "code",
      "execution_count": null,
      "metadata": {
        "id": "ReWVXYX7UxS8",
        "outputId": "e8334a89-f5f5-4001-c435-ab3c525606f3",
        "colab": {
          "base_uri": "https://localhost:8080/",
          "height": 206
        }
      },
      "outputs": [
        {
          "output_type": "execute_result",
          "data": {
            "text/plain": [
              "   id brand model  year  price transmission  mileage fuelType  tax   mpg  \\\n",
              "0   0  Audi    A1  2017  12500       Manual    15735   Petrol  150  55.4   \n",
              "1   1  Audi    A6  2016  16500    Automatic    36203   Diesel   20  64.2   \n",
              "2   2  Audi    A1  2016  11000       Manual    29946   Petrol   30  55.4   \n",
              "3   3  Audi    A4  2017  16800    Automatic    25952   Diesel  145  67.3   \n",
              "4   4  Audi    A3  2019  17300       Manual     1998   Petrol  145  49.6   \n",
              "\n",
              "   engineSize  \n",
              "0         1.4  \n",
              "1         2.0  \n",
              "2         1.4  \n",
              "3         2.0  \n",
              "4         1.0  "
            ],
            "text/html": [
              "\n",
              "  <div id=\"df-6e1de53b-6135-4f9e-a046-7491f10cd166\">\n",
              "    <div class=\"colab-df-container\">\n",
              "      <div>\n",
              "<style scoped>\n",
              "    .dataframe tbody tr th:only-of-type {\n",
              "        vertical-align: middle;\n",
              "    }\n",
              "\n",
              "    .dataframe tbody tr th {\n",
              "        vertical-align: top;\n",
              "    }\n",
              "\n",
              "    .dataframe thead th {\n",
              "        text-align: right;\n",
              "    }\n",
              "</style>\n",
              "<table border=\"1\" class=\"dataframe\">\n",
              "  <thead>\n",
              "    <tr style=\"text-align: right;\">\n",
              "      <th></th>\n",
              "      <th>id</th>\n",
              "      <th>brand</th>\n",
              "      <th>model</th>\n",
              "      <th>year</th>\n",
              "      <th>price</th>\n",
              "      <th>transmission</th>\n",
              "      <th>mileage</th>\n",
              "      <th>fuelType</th>\n",
              "      <th>tax</th>\n",
              "      <th>mpg</th>\n",
              "      <th>engineSize</th>\n",
              "    </tr>\n",
              "  </thead>\n",
              "  <tbody>\n",
              "    <tr>\n",
              "      <th>0</th>\n",
              "      <td>0</td>\n",
              "      <td>Audi</td>\n",
              "      <td>A1</td>\n",
              "      <td>2017</td>\n",
              "      <td>12500</td>\n",
              "      <td>Manual</td>\n",
              "      <td>15735</td>\n",
              "      <td>Petrol</td>\n",
              "      <td>150</td>\n",
              "      <td>55.4</td>\n",
              "      <td>1.4</td>\n",
              "    </tr>\n",
              "    <tr>\n",
              "      <th>1</th>\n",
              "      <td>1</td>\n",
              "      <td>Audi</td>\n",
              "      <td>A6</td>\n",
              "      <td>2016</td>\n",
              "      <td>16500</td>\n",
              "      <td>Automatic</td>\n",
              "      <td>36203</td>\n",
              "      <td>Diesel</td>\n",
              "      <td>20</td>\n",
              "      <td>64.2</td>\n",
              "      <td>2.0</td>\n",
              "    </tr>\n",
              "    <tr>\n",
              "      <th>2</th>\n",
              "      <td>2</td>\n",
              "      <td>Audi</td>\n",
              "      <td>A1</td>\n",
              "      <td>2016</td>\n",
              "      <td>11000</td>\n",
              "      <td>Manual</td>\n",
              "      <td>29946</td>\n",
              "      <td>Petrol</td>\n",
              "      <td>30</td>\n",
              "      <td>55.4</td>\n",
              "      <td>1.4</td>\n",
              "    </tr>\n",
              "    <tr>\n",
              "      <th>3</th>\n",
              "      <td>3</td>\n",
              "      <td>Audi</td>\n",
              "      <td>A4</td>\n",
              "      <td>2017</td>\n",
              "      <td>16800</td>\n",
              "      <td>Automatic</td>\n",
              "      <td>25952</td>\n",
              "      <td>Diesel</td>\n",
              "      <td>145</td>\n",
              "      <td>67.3</td>\n",
              "      <td>2.0</td>\n",
              "    </tr>\n",
              "    <tr>\n",
              "      <th>4</th>\n",
              "      <td>4</td>\n",
              "      <td>Audi</td>\n",
              "      <td>A3</td>\n",
              "      <td>2019</td>\n",
              "      <td>17300</td>\n",
              "      <td>Manual</td>\n",
              "      <td>1998</td>\n",
              "      <td>Petrol</td>\n",
              "      <td>145</td>\n",
              "      <td>49.6</td>\n",
              "      <td>1.0</td>\n",
              "    </tr>\n",
              "  </tbody>\n",
              "</table>\n",
              "</div>\n",
              "      <button class=\"colab-df-convert\" onclick=\"convertToInteractive('df-6e1de53b-6135-4f9e-a046-7491f10cd166')\"\n",
              "              title=\"Convert this dataframe to an interactive table.\"\n",
              "              style=\"display:none;\">\n",
              "        \n",
              "  <svg xmlns=\"http://www.w3.org/2000/svg\" height=\"24px\"viewBox=\"0 0 24 24\"\n",
              "       width=\"24px\">\n",
              "    <path d=\"M0 0h24v24H0V0z\" fill=\"none\"/>\n",
              "    <path d=\"M18.56 5.44l.94 2.06.94-2.06 2.06-.94-2.06-.94-.94-2.06-.94 2.06-2.06.94zm-11 1L8.5 8.5l.94-2.06 2.06-.94-2.06-.94L8.5 2.5l-.94 2.06-2.06.94zm10 10l.94 2.06.94-2.06 2.06-.94-2.06-.94-.94-2.06-.94 2.06-2.06.94z\"/><path d=\"M17.41 7.96l-1.37-1.37c-.4-.4-.92-.59-1.43-.59-.52 0-1.04.2-1.43.59L10.3 9.45l-7.72 7.72c-.78.78-.78 2.05 0 2.83L4 21.41c.39.39.9.59 1.41.59.51 0 1.02-.2 1.41-.59l7.78-7.78 2.81-2.81c.8-.78.8-2.07 0-2.86zM5.41 20L4 18.59l7.72-7.72 1.47 1.35L5.41 20z\"/>\n",
              "  </svg>\n",
              "      </button>\n",
              "      \n",
              "  <style>\n",
              "    .colab-df-container {\n",
              "      display:flex;\n",
              "      flex-wrap:wrap;\n",
              "      gap: 12px;\n",
              "    }\n",
              "\n",
              "    .colab-df-convert {\n",
              "      background-color: #E8F0FE;\n",
              "      border: none;\n",
              "      border-radius: 50%;\n",
              "      cursor: pointer;\n",
              "      display: none;\n",
              "      fill: #1967D2;\n",
              "      height: 32px;\n",
              "      padding: 0 0 0 0;\n",
              "      width: 32px;\n",
              "    }\n",
              "\n",
              "    .colab-df-convert:hover {\n",
              "      background-color: #E2EBFA;\n",
              "      box-shadow: 0px 1px 2px rgba(60, 64, 67, 0.3), 0px 1px 3px 1px rgba(60, 64, 67, 0.15);\n",
              "      fill: #174EA6;\n",
              "    }\n",
              "\n",
              "    [theme=dark] .colab-df-convert {\n",
              "      background-color: #3B4455;\n",
              "      fill: #D2E3FC;\n",
              "    }\n",
              "\n",
              "    [theme=dark] .colab-df-convert:hover {\n",
              "      background-color: #434B5C;\n",
              "      box-shadow: 0px 1px 3px 1px rgba(0, 0, 0, 0.15);\n",
              "      filter: drop-shadow(0px 1px 2px rgba(0, 0, 0, 0.3));\n",
              "      fill: #FFFFFF;\n",
              "    }\n",
              "  </style>\n",
              "\n",
              "      <script>\n",
              "        const buttonEl =\n",
              "          document.querySelector('#df-6e1de53b-6135-4f9e-a046-7491f10cd166 button.colab-df-convert');\n",
              "        buttonEl.style.display =\n",
              "          google.colab.kernel.accessAllowed ? 'block' : 'none';\n",
              "\n",
              "        async function convertToInteractive(key) {\n",
              "          const element = document.querySelector('#df-6e1de53b-6135-4f9e-a046-7491f10cd166');\n",
              "          const dataTable =\n",
              "            await google.colab.kernel.invokeFunction('convertToInteractive',\n",
              "                                                     [key], {});\n",
              "          if (!dataTable) return;\n",
              "\n",
              "          const docLinkHtml = 'Like what you see? Visit the ' +\n",
              "            '<a target=\"_blank\" href=https://colab.research.google.com/notebooks/data_table.ipynb>data table notebook</a>'\n",
              "            + ' to learn more about interactive tables.';\n",
              "          element.innerHTML = '';\n",
              "          dataTable['output_type'] = 'display_data';\n",
              "          await google.colab.output.renderOutput(dataTable, element);\n",
              "          const docLink = document.createElement('div');\n",
              "          docLink.innerHTML = docLinkHtml;\n",
              "          element.appendChild(docLink);\n",
              "        }\n",
              "      </script>\n",
              "    </div>\n",
              "  </div>\n",
              "  "
            ]
          },
          "metadata": {},
          "execution_count": 14
        }
      ],
      "source": [
        "# rename kolom pertama\n",
        "df_car.rename(columns={'Unnamed: 0': 'id'}, inplace=True)\n",
        "df_car.head()"
      ]
    },
    {
      "cell_type": "code",
      "source": [
        "df_car.info()"
      ],
      "metadata": {
        "colab": {
          "base_uri": "https://localhost:8080/"
        },
        "id": "PIdG8CZfW2F8",
        "outputId": "9dc16f6a-a2d1-4b55-d453-76a72ada9ee5"
      },
      "execution_count": null,
      "outputs": [
        {
          "output_type": "stream",
          "name": "stdout",
          "text": [
            "<class 'pandas.core.frame.DataFrame'>\n",
            "RangeIndex: 22266 entries, 0 to 22265\n",
            "Data columns (total 11 columns):\n",
            " #   Column        Non-Null Count  Dtype  \n",
            "---  ------        --------------  -----  \n",
            " 0   id            22266 non-null  int64  \n",
            " 1   brand         22266 non-null  object \n",
            " 2   model         22266 non-null  object \n",
            " 3   year          22266 non-null  int64  \n",
            " 4   price         22266 non-null  int64  \n",
            " 5   transmission  22266 non-null  object \n",
            " 6   mileage       22266 non-null  int64  \n",
            " 7   fuelType      22266 non-null  object \n",
            " 8   tax           22266 non-null  int64  \n",
            " 9   mpg           22266 non-null  float64\n",
            " 10  engineSize    22266 non-null  float64\n",
            "dtypes: float64(2), int64(5), object(4)\n",
            "memory usage: 1.9+ MB\n"
          ]
        }
      ]
    },
    {
      "cell_type": "code",
      "execution_count": null,
      "metadata": {
        "id": "WFv6G5GQUxS-",
        "outputId": "e18deb50-22d4-45c3-f893-751d4e5ccdd7",
        "colab": {
          "base_uri": "https://localhost:8080/"
        }
      },
      "outputs": [
        {
          "output_type": "execute_result",
          "data": {
            "text/plain": [
              "Yaris     2122\n",
              "Aygo      1961\n",
              "A3        1929\n",
              "Q3        1417\n",
              "A4        1381\n",
              "A1        1347\n",
              "Tucson    1300\n",
              "I10       1092\n",
              "A5         882\n",
              "Q5         877\n",
              "Name: model, dtype: int64"
            ]
          },
          "metadata": {},
          "execution_count": 7
        }
      ],
      "source": [
        "df_car['model'].value_counts()[:10]"
      ]
    },
    {
      "cell_type": "markdown",
      "metadata": {
        "id": "dWLQdS7kUxS_"
      },
      "source": [
        "# **No.2**"
      ]
    },
    {
      "cell_type": "code",
      "execution_count": null,
      "metadata": {
        "id": "jBDfkTI4UxTB",
        "outputId": "daf0c597-b1dd-44b0-9118-7e242cbc8f33",
        "colab": {
          "base_uri": "https://localhost:8080/",
          "height": 458
        }
      },
      "outputs": [
        {
          "output_type": "execute_result",
          "data": {
            "text/plain": [
              "                  id  brand  model          year          price transmission  \\\n",
              "count   22266.000000  22266  22266  22266.000000   22266.000000        22266   \n",
              "unique           NaN      3     60           NaN            NaN            4   \n",
              "top              NaN   Audi  Yaris           NaN            NaN       Manual   \n",
              "freq             NaN  10668   2122           NaN            NaN        11806   \n",
              "mean    11132.500000    NaN    NaN   2016.995509   17542.591575          NaN   \n",
              "std      6427.784883    NaN    NaN      2.133576   10589.835312          NaN   \n",
              "min         0.000000    NaN    NaN   1997.000000     850.000000          NaN   \n",
              "25%      5566.250000    NaN    NaN   2016.000000    9999.000000          NaN   \n",
              "50%     11132.500000    NaN    NaN   2017.000000   14999.000000          NaN   \n",
              "75%     16698.750000    NaN    NaN   2019.000000   21991.000000          NaN   \n",
              "max     22265.000000    NaN    NaN   2020.000000  145000.000000          NaN   \n",
              "\n",
              "              mileage fuelType           tax           mpg    engineSize  \n",
              "count    22266.000000    22266  22266.000000  22266.000000  22266.000000  \n",
              "unique            NaN        4           NaN           NaN           NaN  \n",
              "top               NaN   Petrol           NaN           NaN           NaN  \n",
              "freq              NaN    12052           NaN           NaN           NaN  \n",
              "mean     23501.863604      NaN    115.473592     55.151181      1.688489  \n",
              "std      21111.157417      NaN     68.835239     14.834181      0.566379  \n",
              "min          1.000000      NaN      0.000000      1.100000      0.000000  \n",
              "25%       7200.000000      NaN     30.000000     44.800000      1.400000  \n",
              "50%      18354.000000      NaN    145.000000     55.400000      1.600000  \n",
              "75%      33100.750000      NaN    145.000000     62.800000      2.000000  \n",
              "max     323000.000000      NaN    580.000000    256.800000      6.300000  "
            ],
            "text/html": [
              "\n",
              "  <div id=\"df-c738fa52-a6a8-4ac2-ab27-235e979977fa\">\n",
              "    <div class=\"colab-df-container\">\n",
              "      <div>\n",
              "<style scoped>\n",
              "    .dataframe tbody tr th:only-of-type {\n",
              "        vertical-align: middle;\n",
              "    }\n",
              "\n",
              "    .dataframe tbody tr th {\n",
              "        vertical-align: top;\n",
              "    }\n",
              "\n",
              "    .dataframe thead th {\n",
              "        text-align: right;\n",
              "    }\n",
              "</style>\n",
              "<table border=\"1\" class=\"dataframe\">\n",
              "  <thead>\n",
              "    <tr style=\"text-align: right;\">\n",
              "      <th></th>\n",
              "      <th>id</th>\n",
              "      <th>brand</th>\n",
              "      <th>model</th>\n",
              "      <th>year</th>\n",
              "      <th>price</th>\n",
              "      <th>transmission</th>\n",
              "      <th>mileage</th>\n",
              "      <th>fuelType</th>\n",
              "      <th>tax</th>\n",
              "      <th>mpg</th>\n",
              "      <th>engineSize</th>\n",
              "    </tr>\n",
              "  </thead>\n",
              "  <tbody>\n",
              "    <tr>\n",
              "      <th>count</th>\n",
              "      <td>22266.000000</td>\n",
              "      <td>22266</td>\n",
              "      <td>22266</td>\n",
              "      <td>22266.000000</td>\n",
              "      <td>22266.000000</td>\n",
              "      <td>22266</td>\n",
              "      <td>22266.000000</td>\n",
              "      <td>22266</td>\n",
              "      <td>22266.000000</td>\n",
              "      <td>22266.000000</td>\n",
              "      <td>22266.000000</td>\n",
              "    </tr>\n",
              "    <tr>\n",
              "      <th>unique</th>\n",
              "      <td>NaN</td>\n",
              "      <td>3</td>\n",
              "      <td>60</td>\n",
              "      <td>NaN</td>\n",
              "      <td>NaN</td>\n",
              "      <td>4</td>\n",
              "      <td>NaN</td>\n",
              "      <td>4</td>\n",
              "      <td>NaN</td>\n",
              "      <td>NaN</td>\n",
              "      <td>NaN</td>\n",
              "    </tr>\n",
              "    <tr>\n",
              "      <th>top</th>\n",
              "      <td>NaN</td>\n",
              "      <td>Audi</td>\n",
              "      <td>Yaris</td>\n",
              "      <td>NaN</td>\n",
              "      <td>NaN</td>\n",
              "      <td>Manual</td>\n",
              "      <td>NaN</td>\n",
              "      <td>Petrol</td>\n",
              "      <td>NaN</td>\n",
              "      <td>NaN</td>\n",
              "      <td>NaN</td>\n",
              "    </tr>\n",
              "    <tr>\n",
              "      <th>freq</th>\n",
              "      <td>NaN</td>\n",
              "      <td>10668</td>\n",
              "      <td>2122</td>\n",
              "      <td>NaN</td>\n",
              "      <td>NaN</td>\n",
              "      <td>11806</td>\n",
              "      <td>NaN</td>\n",
              "      <td>12052</td>\n",
              "      <td>NaN</td>\n",
              "      <td>NaN</td>\n",
              "      <td>NaN</td>\n",
              "    </tr>\n",
              "    <tr>\n",
              "      <th>mean</th>\n",
              "      <td>11132.500000</td>\n",
              "      <td>NaN</td>\n",
              "      <td>NaN</td>\n",
              "      <td>2016.995509</td>\n",
              "      <td>17542.591575</td>\n",
              "      <td>NaN</td>\n",
              "      <td>23501.863604</td>\n",
              "      <td>NaN</td>\n",
              "      <td>115.473592</td>\n",
              "      <td>55.151181</td>\n",
              "      <td>1.688489</td>\n",
              "    </tr>\n",
              "    <tr>\n",
              "      <th>std</th>\n",
              "      <td>6427.784883</td>\n",
              "      <td>NaN</td>\n",
              "      <td>NaN</td>\n",
              "      <td>2.133576</td>\n",
              "      <td>10589.835312</td>\n",
              "      <td>NaN</td>\n",
              "      <td>21111.157417</td>\n",
              "      <td>NaN</td>\n",
              "      <td>68.835239</td>\n",
              "      <td>14.834181</td>\n",
              "      <td>0.566379</td>\n",
              "    </tr>\n",
              "    <tr>\n",
              "      <th>min</th>\n",
              "      <td>0.000000</td>\n",
              "      <td>NaN</td>\n",
              "      <td>NaN</td>\n",
              "      <td>1997.000000</td>\n",
              "      <td>850.000000</td>\n",
              "      <td>NaN</td>\n",
              "      <td>1.000000</td>\n",
              "      <td>NaN</td>\n",
              "      <td>0.000000</td>\n",
              "      <td>1.100000</td>\n",
              "      <td>0.000000</td>\n",
              "    </tr>\n",
              "    <tr>\n",
              "      <th>25%</th>\n",
              "      <td>5566.250000</td>\n",
              "      <td>NaN</td>\n",
              "      <td>NaN</td>\n",
              "      <td>2016.000000</td>\n",
              "      <td>9999.000000</td>\n",
              "      <td>NaN</td>\n",
              "      <td>7200.000000</td>\n",
              "      <td>NaN</td>\n",
              "      <td>30.000000</td>\n",
              "      <td>44.800000</td>\n",
              "      <td>1.400000</td>\n",
              "    </tr>\n",
              "    <tr>\n",
              "      <th>50%</th>\n",
              "      <td>11132.500000</td>\n",
              "      <td>NaN</td>\n",
              "      <td>NaN</td>\n",
              "      <td>2017.000000</td>\n",
              "      <td>14999.000000</td>\n",
              "      <td>NaN</td>\n",
              "      <td>18354.000000</td>\n",
              "      <td>NaN</td>\n",
              "      <td>145.000000</td>\n",
              "      <td>55.400000</td>\n",
              "      <td>1.600000</td>\n",
              "    </tr>\n",
              "    <tr>\n",
              "      <th>75%</th>\n",
              "      <td>16698.750000</td>\n",
              "      <td>NaN</td>\n",
              "      <td>NaN</td>\n",
              "      <td>2019.000000</td>\n",
              "      <td>21991.000000</td>\n",
              "      <td>NaN</td>\n",
              "      <td>33100.750000</td>\n",
              "      <td>NaN</td>\n",
              "      <td>145.000000</td>\n",
              "      <td>62.800000</td>\n",
              "      <td>2.000000</td>\n",
              "    </tr>\n",
              "    <tr>\n",
              "      <th>max</th>\n",
              "      <td>22265.000000</td>\n",
              "      <td>NaN</td>\n",
              "      <td>NaN</td>\n",
              "      <td>2020.000000</td>\n",
              "      <td>145000.000000</td>\n",
              "      <td>NaN</td>\n",
              "      <td>323000.000000</td>\n",
              "      <td>NaN</td>\n",
              "      <td>580.000000</td>\n",
              "      <td>256.800000</td>\n",
              "      <td>6.300000</td>\n",
              "    </tr>\n",
              "  </tbody>\n",
              "</table>\n",
              "</div>\n",
              "      <button class=\"colab-df-convert\" onclick=\"convertToInteractive('df-c738fa52-a6a8-4ac2-ab27-235e979977fa')\"\n",
              "              title=\"Convert this dataframe to an interactive table.\"\n",
              "              style=\"display:none;\">\n",
              "        \n",
              "  <svg xmlns=\"http://www.w3.org/2000/svg\" height=\"24px\"viewBox=\"0 0 24 24\"\n",
              "       width=\"24px\">\n",
              "    <path d=\"M0 0h24v24H0V0z\" fill=\"none\"/>\n",
              "    <path d=\"M18.56 5.44l.94 2.06.94-2.06 2.06-.94-2.06-.94-.94-2.06-.94 2.06-2.06.94zm-11 1L8.5 8.5l.94-2.06 2.06-.94-2.06-.94L8.5 2.5l-.94 2.06-2.06.94zm10 10l.94 2.06.94-2.06 2.06-.94-2.06-.94-.94-2.06-.94 2.06-2.06.94z\"/><path d=\"M17.41 7.96l-1.37-1.37c-.4-.4-.92-.59-1.43-.59-.52 0-1.04.2-1.43.59L10.3 9.45l-7.72 7.72c-.78.78-.78 2.05 0 2.83L4 21.41c.39.39.9.59 1.41.59.51 0 1.02-.2 1.41-.59l7.78-7.78 2.81-2.81c.8-.78.8-2.07 0-2.86zM5.41 20L4 18.59l7.72-7.72 1.47 1.35L5.41 20z\"/>\n",
              "  </svg>\n",
              "      </button>\n",
              "      \n",
              "  <style>\n",
              "    .colab-df-container {\n",
              "      display:flex;\n",
              "      flex-wrap:wrap;\n",
              "      gap: 12px;\n",
              "    }\n",
              "\n",
              "    .colab-df-convert {\n",
              "      background-color: #E8F0FE;\n",
              "      border: none;\n",
              "      border-radius: 50%;\n",
              "      cursor: pointer;\n",
              "      display: none;\n",
              "      fill: #1967D2;\n",
              "      height: 32px;\n",
              "      padding: 0 0 0 0;\n",
              "      width: 32px;\n",
              "    }\n",
              "\n",
              "    .colab-df-convert:hover {\n",
              "      background-color: #E2EBFA;\n",
              "      box-shadow: 0px 1px 2px rgba(60, 64, 67, 0.3), 0px 1px 3px 1px rgba(60, 64, 67, 0.15);\n",
              "      fill: #174EA6;\n",
              "    }\n",
              "\n",
              "    [theme=dark] .colab-df-convert {\n",
              "      background-color: #3B4455;\n",
              "      fill: #D2E3FC;\n",
              "    }\n",
              "\n",
              "    [theme=dark] .colab-df-convert:hover {\n",
              "      background-color: #434B5C;\n",
              "      box-shadow: 0px 1px 3px 1px rgba(0, 0, 0, 0.15);\n",
              "      filter: drop-shadow(0px 1px 2px rgba(0, 0, 0, 0.3));\n",
              "      fill: #FFFFFF;\n",
              "    }\n",
              "  </style>\n",
              "\n",
              "      <script>\n",
              "        const buttonEl =\n",
              "          document.querySelector('#df-c738fa52-a6a8-4ac2-ab27-235e979977fa button.colab-df-convert');\n",
              "        buttonEl.style.display =\n",
              "          google.colab.kernel.accessAllowed ? 'block' : 'none';\n",
              "\n",
              "        async function convertToInteractive(key) {\n",
              "          const element = document.querySelector('#df-c738fa52-a6a8-4ac2-ab27-235e979977fa');\n",
              "          const dataTable =\n",
              "            await google.colab.kernel.invokeFunction('convertToInteractive',\n",
              "                                                     [key], {});\n",
              "          if (!dataTable) return;\n",
              "\n",
              "          const docLinkHtml = 'Like what you see? Visit the ' +\n",
              "            '<a target=\"_blank\" href=https://colab.research.google.com/notebooks/data_table.ipynb>data table notebook</a>'\n",
              "            + ' to learn more about interactive tables.';\n",
              "          element.innerHTML = '';\n",
              "          dataTable['output_type'] = 'display_data';\n",
              "          await google.colab.output.renderOutput(dataTable, element);\n",
              "          const docLink = document.createElement('div');\n",
              "          docLink.innerHTML = docLinkHtml;\n",
              "          element.appendChild(docLink);\n",
              "        }\n",
              "      </script>\n",
              "    </div>\n",
              "  </div>\n",
              "  "
            ]
          },
          "metadata": {},
          "execution_count": 8
        }
      ],
      "source": [
        "# Tampilkan deskripsi statistik dari dataset df_car\n",
        "df_car.describe(include='all')"
      ]
    },
    {
      "cell_type": "code",
      "source": [
        "df_car.describe()"
      ],
      "metadata": {
        "colab": {
          "base_uri": "https://localhost:8080/",
          "height": 300
        },
        "id": "t0np9N-u_r1Q",
        "outputId": "3c47e839-973c-4492-bba5-e06582246f95"
      },
      "execution_count": null,
      "outputs": [
        {
          "output_type": "execute_result",
          "data": {
            "text/plain": [
              "                 id          year          price        mileage           tax  \\\n",
              "count  22266.000000  22266.000000   22266.000000   22266.000000  22266.000000   \n",
              "mean   11132.500000   2016.995509   17542.591575   23501.863604    115.473592   \n",
              "std     6427.784883      2.133576   10589.835312   21111.157417     68.835239   \n",
              "min        0.000000   1997.000000     850.000000       1.000000      0.000000   \n",
              "25%     5566.250000   2016.000000    9999.000000    7200.000000     30.000000   \n",
              "50%    11132.500000   2017.000000   14999.000000   18354.000000    145.000000   \n",
              "75%    16698.750000   2019.000000   21991.000000   33100.750000    145.000000   \n",
              "max    22265.000000   2020.000000  145000.000000  323000.000000    580.000000   \n",
              "\n",
              "                mpg    engineSize  \n",
              "count  22266.000000  22266.000000  \n",
              "mean      55.151181      1.688489  \n",
              "std       14.834181      0.566379  \n",
              "min        1.100000      0.000000  \n",
              "25%       44.800000      1.400000  \n",
              "50%       55.400000      1.600000  \n",
              "75%       62.800000      2.000000  \n",
              "max      256.800000      6.300000  "
            ],
            "text/html": [
              "\n",
              "  <div id=\"df-edaaa24f-b496-4194-a4ed-f33ab61887fe\">\n",
              "    <div class=\"colab-df-container\">\n",
              "      <div>\n",
              "<style scoped>\n",
              "    .dataframe tbody tr th:only-of-type {\n",
              "        vertical-align: middle;\n",
              "    }\n",
              "\n",
              "    .dataframe tbody tr th {\n",
              "        vertical-align: top;\n",
              "    }\n",
              "\n",
              "    .dataframe thead th {\n",
              "        text-align: right;\n",
              "    }\n",
              "</style>\n",
              "<table border=\"1\" class=\"dataframe\">\n",
              "  <thead>\n",
              "    <tr style=\"text-align: right;\">\n",
              "      <th></th>\n",
              "      <th>id</th>\n",
              "      <th>year</th>\n",
              "      <th>price</th>\n",
              "      <th>mileage</th>\n",
              "      <th>tax</th>\n",
              "      <th>mpg</th>\n",
              "      <th>engineSize</th>\n",
              "    </tr>\n",
              "  </thead>\n",
              "  <tbody>\n",
              "    <tr>\n",
              "      <th>count</th>\n",
              "      <td>22266.000000</td>\n",
              "      <td>22266.000000</td>\n",
              "      <td>22266.000000</td>\n",
              "      <td>22266.000000</td>\n",
              "      <td>22266.000000</td>\n",
              "      <td>22266.000000</td>\n",
              "      <td>22266.000000</td>\n",
              "    </tr>\n",
              "    <tr>\n",
              "      <th>mean</th>\n",
              "      <td>11132.500000</td>\n",
              "      <td>2016.995509</td>\n",
              "      <td>17542.591575</td>\n",
              "      <td>23501.863604</td>\n",
              "      <td>115.473592</td>\n",
              "      <td>55.151181</td>\n",
              "      <td>1.688489</td>\n",
              "    </tr>\n",
              "    <tr>\n",
              "      <th>std</th>\n",
              "      <td>6427.784883</td>\n",
              "      <td>2.133576</td>\n",
              "      <td>10589.835312</td>\n",
              "      <td>21111.157417</td>\n",
              "      <td>68.835239</td>\n",
              "      <td>14.834181</td>\n",
              "      <td>0.566379</td>\n",
              "    </tr>\n",
              "    <tr>\n",
              "      <th>min</th>\n",
              "      <td>0.000000</td>\n",
              "      <td>1997.000000</td>\n",
              "      <td>850.000000</td>\n",
              "      <td>1.000000</td>\n",
              "      <td>0.000000</td>\n",
              "      <td>1.100000</td>\n",
              "      <td>0.000000</td>\n",
              "    </tr>\n",
              "    <tr>\n",
              "      <th>25%</th>\n",
              "      <td>5566.250000</td>\n",
              "      <td>2016.000000</td>\n",
              "      <td>9999.000000</td>\n",
              "      <td>7200.000000</td>\n",
              "      <td>30.000000</td>\n",
              "      <td>44.800000</td>\n",
              "      <td>1.400000</td>\n",
              "    </tr>\n",
              "    <tr>\n",
              "      <th>50%</th>\n",
              "      <td>11132.500000</td>\n",
              "      <td>2017.000000</td>\n",
              "      <td>14999.000000</td>\n",
              "      <td>18354.000000</td>\n",
              "      <td>145.000000</td>\n",
              "      <td>55.400000</td>\n",
              "      <td>1.600000</td>\n",
              "    </tr>\n",
              "    <tr>\n",
              "      <th>75%</th>\n",
              "      <td>16698.750000</td>\n",
              "      <td>2019.000000</td>\n",
              "      <td>21991.000000</td>\n",
              "      <td>33100.750000</td>\n",
              "      <td>145.000000</td>\n",
              "      <td>62.800000</td>\n",
              "      <td>2.000000</td>\n",
              "    </tr>\n",
              "    <tr>\n",
              "      <th>max</th>\n",
              "      <td>22265.000000</td>\n",
              "      <td>2020.000000</td>\n",
              "      <td>145000.000000</td>\n",
              "      <td>323000.000000</td>\n",
              "      <td>580.000000</td>\n",
              "      <td>256.800000</td>\n",
              "      <td>6.300000</td>\n",
              "    </tr>\n",
              "  </tbody>\n",
              "</table>\n",
              "</div>\n",
              "      <button class=\"colab-df-convert\" onclick=\"convertToInteractive('df-edaaa24f-b496-4194-a4ed-f33ab61887fe')\"\n",
              "              title=\"Convert this dataframe to an interactive table.\"\n",
              "              style=\"display:none;\">\n",
              "        \n",
              "  <svg xmlns=\"http://www.w3.org/2000/svg\" height=\"24px\"viewBox=\"0 0 24 24\"\n",
              "       width=\"24px\">\n",
              "    <path d=\"M0 0h24v24H0V0z\" fill=\"none\"/>\n",
              "    <path d=\"M18.56 5.44l.94 2.06.94-2.06 2.06-.94-2.06-.94-.94-2.06-.94 2.06-2.06.94zm-11 1L8.5 8.5l.94-2.06 2.06-.94-2.06-.94L8.5 2.5l-.94 2.06-2.06.94zm10 10l.94 2.06.94-2.06 2.06-.94-2.06-.94-.94-2.06-.94 2.06-2.06.94z\"/><path d=\"M17.41 7.96l-1.37-1.37c-.4-.4-.92-.59-1.43-.59-.52 0-1.04.2-1.43.59L10.3 9.45l-7.72 7.72c-.78.78-.78 2.05 0 2.83L4 21.41c.39.39.9.59 1.41.59.51 0 1.02-.2 1.41-.59l7.78-7.78 2.81-2.81c.8-.78.8-2.07 0-2.86zM5.41 20L4 18.59l7.72-7.72 1.47 1.35L5.41 20z\"/>\n",
              "  </svg>\n",
              "      </button>\n",
              "      \n",
              "  <style>\n",
              "    .colab-df-container {\n",
              "      display:flex;\n",
              "      flex-wrap:wrap;\n",
              "      gap: 12px;\n",
              "    }\n",
              "\n",
              "    .colab-df-convert {\n",
              "      background-color: #E8F0FE;\n",
              "      border: none;\n",
              "      border-radius: 50%;\n",
              "      cursor: pointer;\n",
              "      display: none;\n",
              "      fill: #1967D2;\n",
              "      height: 32px;\n",
              "      padding: 0 0 0 0;\n",
              "      width: 32px;\n",
              "    }\n",
              "\n",
              "    .colab-df-convert:hover {\n",
              "      background-color: #E2EBFA;\n",
              "      box-shadow: 0px 1px 2px rgba(60, 64, 67, 0.3), 0px 1px 3px 1px rgba(60, 64, 67, 0.15);\n",
              "      fill: #174EA6;\n",
              "    }\n",
              "\n",
              "    [theme=dark] .colab-df-convert {\n",
              "      background-color: #3B4455;\n",
              "      fill: #D2E3FC;\n",
              "    }\n",
              "\n",
              "    [theme=dark] .colab-df-convert:hover {\n",
              "      background-color: #434B5C;\n",
              "      box-shadow: 0px 1px 3px 1px rgba(0, 0, 0, 0.15);\n",
              "      filter: drop-shadow(0px 1px 2px rgba(0, 0, 0, 0.3));\n",
              "      fill: #FFFFFF;\n",
              "    }\n",
              "  </style>\n",
              "\n",
              "      <script>\n",
              "        const buttonEl =\n",
              "          document.querySelector('#df-edaaa24f-b496-4194-a4ed-f33ab61887fe button.colab-df-convert');\n",
              "        buttonEl.style.display =\n",
              "          google.colab.kernel.accessAllowed ? 'block' : 'none';\n",
              "\n",
              "        async function convertToInteractive(key) {\n",
              "          const element = document.querySelector('#df-edaaa24f-b496-4194-a4ed-f33ab61887fe');\n",
              "          const dataTable =\n",
              "            await google.colab.kernel.invokeFunction('convertToInteractive',\n",
              "                                                     [key], {});\n",
              "          if (!dataTable) return;\n",
              "\n",
              "          const docLinkHtml = 'Like what you see? Visit the ' +\n",
              "            '<a target=\"_blank\" href=https://colab.research.google.com/notebooks/data_table.ipynb>data table notebook</a>'\n",
              "            + ' to learn more about interactive tables.';\n",
              "          element.innerHTML = '';\n",
              "          dataTable['output_type'] = 'display_data';\n",
              "          await google.colab.output.renderOutput(dataTable, element);\n",
              "          const docLink = document.createElement('div');\n",
              "          docLink.innerHTML = docLinkHtml;\n",
              "          element.appendChild(docLink);\n",
              "        }\n",
              "      </script>\n",
              "    </div>\n",
              "  </div>\n",
              "  "
            ]
          },
          "metadata": {},
          "execution_count": 9
        }
      ]
    },
    {
      "cell_type": "code",
      "source": [
        "df_car.describe(include='object')"
      ],
      "metadata": {
        "colab": {
          "base_uri": "https://localhost:8080/",
          "height": 175
        },
        "id": "jSN7pwJW_fXt",
        "outputId": "65f99897-6772-480a-ea1f-6b30ab6ef770"
      },
      "execution_count": null,
      "outputs": [
        {
          "output_type": "execute_result",
          "data": {
            "text/plain": [
              "        brand  model transmission fuelType\n",
              "count   22266  22266        22266    22266\n",
              "unique      3     60            4        4\n",
              "top      Audi  Yaris       Manual   Petrol\n",
              "freq    10668   2122        11806    12052"
            ],
            "text/html": [
              "\n",
              "  <div id=\"df-0e0c0e82-3d08-4bed-aa7e-0b28d81814e8\">\n",
              "    <div class=\"colab-df-container\">\n",
              "      <div>\n",
              "<style scoped>\n",
              "    .dataframe tbody tr th:only-of-type {\n",
              "        vertical-align: middle;\n",
              "    }\n",
              "\n",
              "    .dataframe tbody tr th {\n",
              "        vertical-align: top;\n",
              "    }\n",
              "\n",
              "    .dataframe thead th {\n",
              "        text-align: right;\n",
              "    }\n",
              "</style>\n",
              "<table border=\"1\" class=\"dataframe\">\n",
              "  <thead>\n",
              "    <tr style=\"text-align: right;\">\n",
              "      <th></th>\n",
              "      <th>brand</th>\n",
              "      <th>model</th>\n",
              "      <th>transmission</th>\n",
              "      <th>fuelType</th>\n",
              "    </tr>\n",
              "  </thead>\n",
              "  <tbody>\n",
              "    <tr>\n",
              "      <th>count</th>\n",
              "      <td>22266</td>\n",
              "      <td>22266</td>\n",
              "      <td>22266</td>\n",
              "      <td>22266</td>\n",
              "    </tr>\n",
              "    <tr>\n",
              "      <th>unique</th>\n",
              "      <td>3</td>\n",
              "      <td>60</td>\n",
              "      <td>4</td>\n",
              "      <td>4</td>\n",
              "    </tr>\n",
              "    <tr>\n",
              "      <th>top</th>\n",
              "      <td>Audi</td>\n",
              "      <td>Yaris</td>\n",
              "      <td>Manual</td>\n",
              "      <td>Petrol</td>\n",
              "    </tr>\n",
              "    <tr>\n",
              "      <th>freq</th>\n",
              "      <td>10668</td>\n",
              "      <td>2122</td>\n",
              "      <td>11806</td>\n",
              "      <td>12052</td>\n",
              "    </tr>\n",
              "  </tbody>\n",
              "</table>\n",
              "</div>\n",
              "      <button class=\"colab-df-convert\" onclick=\"convertToInteractive('df-0e0c0e82-3d08-4bed-aa7e-0b28d81814e8')\"\n",
              "              title=\"Convert this dataframe to an interactive table.\"\n",
              "              style=\"display:none;\">\n",
              "        \n",
              "  <svg xmlns=\"http://www.w3.org/2000/svg\" height=\"24px\"viewBox=\"0 0 24 24\"\n",
              "       width=\"24px\">\n",
              "    <path d=\"M0 0h24v24H0V0z\" fill=\"none\"/>\n",
              "    <path d=\"M18.56 5.44l.94 2.06.94-2.06 2.06-.94-2.06-.94-.94-2.06-.94 2.06-2.06.94zm-11 1L8.5 8.5l.94-2.06 2.06-.94-2.06-.94L8.5 2.5l-.94 2.06-2.06.94zm10 10l.94 2.06.94-2.06 2.06-.94-2.06-.94-.94-2.06-.94 2.06-2.06.94z\"/><path d=\"M17.41 7.96l-1.37-1.37c-.4-.4-.92-.59-1.43-.59-.52 0-1.04.2-1.43.59L10.3 9.45l-7.72 7.72c-.78.78-.78 2.05 0 2.83L4 21.41c.39.39.9.59 1.41.59.51 0 1.02-.2 1.41-.59l7.78-7.78 2.81-2.81c.8-.78.8-2.07 0-2.86zM5.41 20L4 18.59l7.72-7.72 1.47 1.35L5.41 20z\"/>\n",
              "  </svg>\n",
              "      </button>\n",
              "      \n",
              "  <style>\n",
              "    .colab-df-container {\n",
              "      display:flex;\n",
              "      flex-wrap:wrap;\n",
              "      gap: 12px;\n",
              "    }\n",
              "\n",
              "    .colab-df-convert {\n",
              "      background-color: #E8F0FE;\n",
              "      border: none;\n",
              "      border-radius: 50%;\n",
              "      cursor: pointer;\n",
              "      display: none;\n",
              "      fill: #1967D2;\n",
              "      height: 32px;\n",
              "      padding: 0 0 0 0;\n",
              "      width: 32px;\n",
              "    }\n",
              "\n",
              "    .colab-df-convert:hover {\n",
              "      background-color: #E2EBFA;\n",
              "      box-shadow: 0px 1px 2px rgba(60, 64, 67, 0.3), 0px 1px 3px 1px rgba(60, 64, 67, 0.15);\n",
              "      fill: #174EA6;\n",
              "    }\n",
              "\n",
              "    [theme=dark] .colab-df-convert {\n",
              "      background-color: #3B4455;\n",
              "      fill: #D2E3FC;\n",
              "    }\n",
              "\n",
              "    [theme=dark] .colab-df-convert:hover {\n",
              "      background-color: #434B5C;\n",
              "      box-shadow: 0px 1px 3px 1px rgba(0, 0, 0, 0.15);\n",
              "      filter: drop-shadow(0px 1px 2px rgba(0, 0, 0, 0.3));\n",
              "      fill: #FFFFFF;\n",
              "    }\n",
              "  </style>\n",
              "\n",
              "      <script>\n",
              "        const buttonEl =\n",
              "          document.querySelector('#df-0e0c0e82-3d08-4bed-aa7e-0b28d81814e8 button.colab-df-convert');\n",
              "        buttonEl.style.display =\n",
              "          google.colab.kernel.accessAllowed ? 'block' : 'none';\n",
              "\n",
              "        async function convertToInteractive(key) {\n",
              "          const element = document.querySelector('#df-0e0c0e82-3d08-4bed-aa7e-0b28d81814e8');\n",
              "          const dataTable =\n",
              "            await google.colab.kernel.invokeFunction('convertToInteractive',\n",
              "                                                     [key], {});\n",
              "          if (!dataTable) return;\n",
              "\n",
              "          const docLinkHtml = 'Like what you see? Visit the ' +\n",
              "            '<a target=\"_blank\" href=https://colab.research.google.com/notebooks/data_table.ipynb>data table notebook</a>'\n",
              "            + ' to learn more about interactive tables.';\n",
              "          element.innerHTML = '';\n",
              "          dataTable['output_type'] = 'display_data';\n",
              "          await google.colab.output.renderOutput(dataTable, element);\n",
              "          const docLink = document.createElement('div');\n",
              "          docLink.innerHTML = docLinkHtml;\n",
              "          element.appendChild(docLink);\n",
              "        }\n",
              "      </script>\n",
              "    </div>\n",
              "  </div>\n",
              "  "
            ]
          },
          "metadata": {},
          "execution_count": 10
        }
      ]
    },
    {
      "cell_type": "markdown",
      "metadata": {
        "id": "Fwq0mLYXUxTD"
      },
      "source": [
        "# **No.3**"
      ]
    },
    {
      "cell_type": "markdown",
      "source": [
        "https://lh4.googleusercontent.com/7WKgwXe1eq8RgxikPt5K5qypI-JdxSLsD_G61Qj7r7mc-1ymXIFPt-tfY0KdDrVOtSjX7bATyhpAOM0URk2DB00sa95xvHT1BKrFcJtMtjOne83QYFoJDdW0EUeb5kevFkIoJcU"
      ],
      "metadata": {
        "id": "OYdemjTkPWGD"
      }
    },
    {
      "cell_type": "markdown",
      "metadata": {
        "id": "lesVDEC4UxTF"
      },
      "source": [
        "### **Kita mengenal bahwa Variabel dibagi menjadi 2 yaitu variabel Kualitatif dan Kuantitatif**\n",
        ">### **Var. Kualitatif dibagi menjadi 2, yaitu: Nominal dan Ordinal**\n",
        ">### **Var. Kuantitatif dibagi menjadi 2, yaitu: Continue dan Discrete**\n",
        "### **Kolom mana saja yang menurut Anda merupakan var. kualitatif? Mana yang Nominal dan Ordinal?**  \n",
        ">### Kualitatif Nominal: brand, model, transmission, fuel type\n",
        ">### Kualitatif Ordinal: -\n",
        "###\n",
        "### **Kolom mana saja yang menurut Anda merupakan var. kuantitatif? Mana yang Continue dan Discrete?**\n",
        ">### Kuantitatif Continue: price, mileage, tax, mpg, engineSize\n",
        ">### Kuantitatif Discrete: year"
      ]
    },
    {
      "cell_type": "markdown",
      "metadata": {
        "id": "osbNEqIbUxTG"
      },
      "source": [
        "# **No.4**"
      ]
    },
    {
      "cell_type": "markdown",
      "metadata": {
        "id": "jqnA4JdlUxTI"
      },
      "source": [
        "## **Apa yg dimaksud dengan Measure of Central Tendency?**\n",
        "### Pengukuran untuk menggambarkan posisi sentral dari distribusi frekuensi untuk sekelompok data.\n",
        "\n",
        "### Istilah lain --> Estimate of Location: perkiraan di mana kebanyakan data berada\n",
        "(Practical Statistic for Data Science - Bruce, 2021 )\n"
      ]
    },
    {
      "cell_type": "code",
      "execution_count": null,
      "metadata": {
        "id": "3sD3CKXpUxTL",
        "outputId": "f1a047dd-5904-4136-ee59-17dd710c4bfd",
        "colab": {
          "base_uri": "https://localhost:8080/",
          "height": 143
        }
      },
      "outputs": [
        {
          "output_type": "execute_result",
          "data": {
            "text/plain": [
              "      model         price\n",
              "mean    NaN  17542.591575\n",
              "50%     NaN  14999.000000\n",
              "top   Yaris           NaN"
            ],
            "text/html": [
              "\n",
              "  <div id=\"df-8e07a44e-e0d8-4492-81a9-760962c93f29\">\n",
              "    <div class=\"colab-df-container\">\n",
              "      <div>\n",
              "<style scoped>\n",
              "    .dataframe tbody tr th:only-of-type {\n",
              "        vertical-align: middle;\n",
              "    }\n",
              "\n",
              "    .dataframe tbody tr th {\n",
              "        vertical-align: top;\n",
              "    }\n",
              "\n",
              "    .dataframe thead th {\n",
              "        text-align: right;\n",
              "    }\n",
              "</style>\n",
              "<table border=\"1\" class=\"dataframe\">\n",
              "  <thead>\n",
              "    <tr style=\"text-align: right;\">\n",
              "      <th></th>\n",
              "      <th>model</th>\n",
              "      <th>price</th>\n",
              "    </tr>\n",
              "  </thead>\n",
              "  <tbody>\n",
              "    <tr>\n",
              "      <th>mean</th>\n",
              "      <td>NaN</td>\n",
              "      <td>17542.591575</td>\n",
              "    </tr>\n",
              "    <tr>\n",
              "      <th>50%</th>\n",
              "      <td>NaN</td>\n",
              "      <td>14999.000000</td>\n",
              "    </tr>\n",
              "    <tr>\n",
              "      <th>top</th>\n",
              "      <td>Yaris</td>\n",
              "      <td>NaN</td>\n",
              "    </tr>\n",
              "  </tbody>\n",
              "</table>\n",
              "</div>\n",
              "      <button class=\"colab-df-convert\" onclick=\"convertToInteractive('df-8e07a44e-e0d8-4492-81a9-760962c93f29')\"\n",
              "              title=\"Convert this dataframe to an interactive table.\"\n",
              "              style=\"display:none;\">\n",
              "        \n",
              "  <svg xmlns=\"http://www.w3.org/2000/svg\" height=\"24px\"viewBox=\"0 0 24 24\"\n",
              "       width=\"24px\">\n",
              "    <path d=\"M0 0h24v24H0V0z\" fill=\"none\"/>\n",
              "    <path d=\"M18.56 5.44l.94 2.06.94-2.06 2.06-.94-2.06-.94-.94-2.06-.94 2.06-2.06.94zm-11 1L8.5 8.5l.94-2.06 2.06-.94-2.06-.94L8.5 2.5l-.94 2.06-2.06.94zm10 10l.94 2.06.94-2.06 2.06-.94-2.06-.94-.94-2.06-.94 2.06-2.06.94z\"/><path d=\"M17.41 7.96l-1.37-1.37c-.4-.4-.92-.59-1.43-.59-.52 0-1.04.2-1.43.59L10.3 9.45l-7.72 7.72c-.78.78-.78 2.05 0 2.83L4 21.41c.39.39.9.59 1.41.59.51 0 1.02-.2 1.41-.59l7.78-7.78 2.81-2.81c.8-.78.8-2.07 0-2.86zM5.41 20L4 18.59l7.72-7.72 1.47 1.35L5.41 20z\"/>\n",
              "  </svg>\n",
              "      </button>\n",
              "      \n",
              "  <style>\n",
              "    .colab-df-container {\n",
              "      display:flex;\n",
              "      flex-wrap:wrap;\n",
              "      gap: 12px;\n",
              "    }\n",
              "\n",
              "    .colab-df-convert {\n",
              "      background-color: #E8F0FE;\n",
              "      border: none;\n",
              "      border-radius: 50%;\n",
              "      cursor: pointer;\n",
              "      display: none;\n",
              "      fill: #1967D2;\n",
              "      height: 32px;\n",
              "      padding: 0 0 0 0;\n",
              "      width: 32px;\n",
              "    }\n",
              "\n",
              "    .colab-df-convert:hover {\n",
              "      background-color: #E2EBFA;\n",
              "      box-shadow: 0px 1px 2px rgba(60, 64, 67, 0.3), 0px 1px 3px 1px rgba(60, 64, 67, 0.15);\n",
              "      fill: #174EA6;\n",
              "    }\n",
              "\n",
              "    [theme=dark] .colab-df-convert {\n",
              "      background-color: #3B4455;\n",
              "      fill: #D2E3FC;\n",
              "    }\n",
              "\n",
              "    [theme=dark] .colab-df-convert:hover {\n",
              "      background-color: #434B5C;\n",
              "      box-shadow: 0px 1px 3px 1px rgba(0, 0, 0, 0.15);\n",
              "      filter: drop-shadow(0px 1px 2px rgba(0, 0, 0, 0.3));\n",
              "      fill: #FFFFFF;\n",
              "    }\n",
              "  </style>\n",
              "\n",
              "      <script>\n",
              "        const buttonEl =\n",
              "          document.querySelector('#df-8e07a44e-e0d8-4492-81a9-760962c93f29 button.colab-df-convert');\n",
              "        buttonEl.style.display =\n",
              "          google.colab.kernel.accessAllowed ? 'block' : 'none';\n",
              "\n",
              "        async function convertToInteractive(key) {\n",
              "          const element = document.querySelector('#df-8e07a44e-e0d8-4492-81a9-760962c93f29');\n",
              "          const dataTable =\n",
              "            await google.colab.kernel.invokeFunction('convertToInteractive',\n",
              "                                                     [key], {});\n",
              "          if (!dataTable) return;\n",
              "\n",
              "          const docLinkHtml = 'Like what you see? Visit the ' +\n",
              "            '<a target=\"_blank\" href=https://colab.research.google.com/notebooks/data_table.ipynb>data table notebook</a>'\n",
              "            + ' to learn more about interactive tables.';\n",
              "          element.innerHTML = '';\n",
              "          dataTable['output_type'] = 'display_data';\n",
              "          await google.colab.output.renderOutput(dataTable, element);\n",
              "          const docLink = document.createElement('div');\n",
              "          docLink.innerHTML = docLinkHtml;\n",
              "          element.appendChild(docLink);\n",
              "        }\n",
              "      </script>\n",
              "    </div>\n",
              "  </div>\n",
              "  "
            ]
          },
          "metadata": {},
          "execution_count": 9
        }
      ],
      "source": [
        "# Apa yg dimaksud dengan Measure of Central Tendency?\n",
        "# pengukuran untuk menggambarkan posisi sentral dari distribusi frekuensi untuk sekelompok data.\n",
        "\n",
        "# Tampilkan Measure of Central Tendency dari kolom 'model' dan 'price'\n",
        "df_car.describe(include='all').loc[['mean','50%','top']][['model','price']]\n",
        "\n",
        "# Central Tendency apa yang cocok untuk kolom 'model' dan 'price'?\n"
      ]
    },
    {
      "cell_type": "code",
      "execution_count": null,
      "metadata": {
        "id": "8jMIXUPVUxTL",
        "outputId": "8e37ff42-a793-4799-d140-e81b9a8bb1ef",
        "colab": {
          "base_uri": "https://localhost:8080/"
        }
      },
      "outputs": [
        {
          "output_type": "stream",
          "name": "stdout",
          "text": [
            "Modus kolom model \n",
            " 0    Yaris\n",
            "dtype: object \n",
            "\n"
          ]
        }
      ],
      "source": [
        "# Kolom model hanya bisa mengukur modus, karena datanya categorical (kualitatif)\n",
        "print('Modus kolom model \\n', df_car['model'].mode(), '\\n')"
      ]
    },
    {
      "cell_type": "code",
      "execution_count": null,
      "metadata": {
        "id": "Eh8mm0knUxTN",
        "outputId": "a8028685-e0ac-4a1d-f2e1-2b9288b042de",
        "colab": {
          "base_uri": "https://localhost:8080/"
        }
      },
      "outputs": [
        {
          "output_type": "stream",
          "name": "stdout",
          "text": [
            "Modus kolom price \n",
            " 0    9995\n",
            "dtype: int64 \n",
            "\n",
            "Mean kolom price \n",
            " 17542.591574598042 \n",
            "\n",
            "Median kolom price \n",
            " 14999.0 \n",
            "\n"
          ]
        }
      ],
      "source": [
        "# Kolom price bisa menggunakan mean atau median, karena datanya numerical (kuantitatif) continuous\n",
        "print('Modus kolom price \\n', df_car['price'].mode(), '\\n')\n",
        "print('Mean kolom price \\n', df_car['price'].mean(), '\\n')\n",
        "print('Median kolom price \\n', df_car['price'].median(), '\\n')"
      ]
    },
    {
      "cell_type": "code",
      "source": [
        "from IPython.display import Image\n",
        "Image('/content/drive/MyDrive/JCDSVL-04, 06, JCDSAHLS-01 Practice Session/Modul 2/Week 3/Monday, June 06, 2022/446px-Negative_and_positive_skew_diagrams_(English).svg[1].png')"
      ],
      "metadata": {
        "colab": {
          "base_uri": "https://localhost:8080/",
          "height": 176
        },
        "id": "H_gBlhs6wMGK",
        "outputId": "2be7e495-889b-4b77-efec-d6005368e4ce"
      },
      "execution_count": null,
      "outputs": [
        {
          "output_type": "execute_result",
          "data": {
            "text/plain": [
              "<IPython.core.display.Image object>"
            ],
            "image/png": "[encoded data removed]"
          },
          "metadata": {},
          "execution_count": 9
        }
      ]
    },
    {
      "cell_type": "code",
      "source": [
        "import statistics\n",
        "print('negatively skewed distribution')\n",
        "print(\"mean:\",statistics.mean([40, 49, 50, 51]))\n",
        "print(\"median:\",statistics.median([40, 49, 50, 51]))\n",
        "print('------------------------------')\n",
        "print('positively skewed distribution')\n",
        "print(\"mean:\",statistics.mean([49, 50, 51, 60]))\n",
        "print(\"median:\",statistics.median([49, 50, 51, 60]))"
      ],
      "metadata": {
        "colab": {
          "base_uri": "https://localhost:8080/"
        },
        "id": "Nm1vHq3HBp6f",
        "outputId": "b5b426f3-de04-4af6-8b65-b8c86a62b6ea"
      },
      "execution_count": null,
      "outputs": [
        {
          "output_type": "stream",
          "name": "stdout",
          "text": [
            "negatively skewed distribution\n",
            "mean: 47.5\n",
            "median: 49.5\n",
            "------------------------------\n",
            "positively skewed distribution\n",
            "mean: 52.5\n",
            "median: 50.5\n"
          ]
        }
      ]
    },
    {
      "cell_type": "markdown",
      "source": [
        "Median lebih robust (tidak sensitif terhadap extreme value) dari pada Mean."
      ],
      "metadata": {
        "id": "050ZUxJOmi1-"
      }
    },
    {
      "cell_type": "markdown",
      "metadata": {
        "id": "MZ2Uucv4UxTP"
      },
      "source": [
        "# **No.5**"
      ]
    },
    {
      "cell_type": "markdown",
      "metadata": {
        "id": "Ldp-EsK3UxTP"
      },
      "source": [
        "### **Apa yang dimaksud dengan Measure of Spread?**\n",
        "### pengukuran untuk menggambarkan seberapa tersebar data kita.\n",
        "### Istilah lain --> Estimates of Variability/Dispersion\n",
        "\n",
        "### **Standar Deviasi**\n",
        "### Standar deviasi adalah ukuran variabilitas yang paling sering digunakan.\n",
        "### Secara sederhana, standar deviasi adalah rata-rata penyimpangan absolut dari nilai rata-rata.\n",
        "### Penyimpangan itu artinya selisih setiap data dengan nilai rata-ratanya.\n",
        "\n",
        "### **Persentil**\n",
        "### Persentil adalah nilai yang membagi data yang sudah diurutkan dari yang terkecil ke yang terbesar menjadi 100 bagian yang sama.\n",
        "\n",
        "### **Interquartile Range (IQR)**\n",
        "### Interquartile Range atau Rentang inter kuartil adalah jarak antara Q1 dan Q3. Sehingga rumusnya IQR = Q3 - Q1\n",
        "### IQR dapat digunakan sebagai pengganti standar deviasi saat data tidak terdistribusi normal, karena standar deviasi sangat sensitif terhadap outlier\n",
        "### Secara umum, standar deviasi sama dengan 1,348 kali dari IQR\n"
      ]
    },
    {
      "cell_type": "code",
      "execution_count": null,
      "metadata": {
        "id": "mfNW9btBUxTQ",
        "outputId": "5ee295ff-d089-4875-e70d-b03c4590d7f5",
        "colab": {
          "base_uri": "https://localhost:8080/"
        }
      },
      "outputs": [
        {
          "output_type": "execute_result",
          "data": {
            "text/plain": [
              "144150"
            ]
          },
          "metadata": {},
          "execution_count": 12
        }
      ],
      "source": [
        "# Tampilkan Measure of Spread dari kolom 'price'\n",
        "\n",
        "# Range\n",
        "df_car['price'].max() - df_car['price'].min()"
      ]
    },
    {
      "cell_type": "code",
      "execution_count": null,
      "metadata": {
        "id": "RLnJwlfrUxTR",
        "outputId": "a2cfde08-465f-45ed-8d97-7d3b8760b591",
        "colab": {
          "base_uri": "https://localhost:8080/"
        }
      },
      "outputs": [
        {
          "output_type": "execute_result",
          "data": {
            "text/plain": [
              "112144611.93109098"
            ]
          },
          "metadata": {},
          "execution_count": 13
        }
      ],
      "source": [
        "# Variance\n",
        "df_car['price'].var()"
      ]
    },
    {
      "cell_type": "code",
      "execution_count": null,
      "metadata": {
        "id": "X2ArriIYUxTR",
        "outputId": "f1a68bc2-011b-4757-c967-d0189f524ef4",
        "colab": {
          "base_uri": "https://localhost:8080/"
        }
      },
      "outputs": [
        {
          "output_type": "execute_result",
          "data": {
            "text/plain": [
              "112144611.93109271"
            ]
          },
          "metadata": {},
          "execution_count": 14
        }
      ],
      "source": [
        "# Variance\n",
        "df_car['price_spread'] = (df_car['price'] - df_car['price'].mean())**2\n",
        "df_car\n",
        "\n",
        "df_car['price_spread'].sum()/(len(df_car['price_spread'])-1)"
      ]
    },
    {
      "cell_type": "code",
      "execution_count": null,
      "metadata": {
        "id": "3qgSK-SrUxTS",
        "outputId": "c12df7e3-e91b-4be0-9e5b-df8000c74866",
        "colab": {
          "base_uri": "https://localhost:8080/"
        }
      },
      "outputs": [
        {
          "output_type": "execute_result",
          "data": {
            "text/plain": [
              "10589.835311802115"
            ]
          },
          "metadata": {},
          "execution_count": 15
        }
      ],
      "source": [
        "# Standard deviation\n",
        "df_car['price'].std()"
      ]
    },
    {
      "cell_type": "code",
      "execution_count": null,
      "metadata": {
        "id": "83rBWZrrUxTT",
        "outputId": "8f7e16b0-1d0c-4f3a-cfe8-1fd0e9a90d83",
        "colab": {
          "base_uri": "https://localhost:8080/"
        }
      },
      "outputs": [
        {
          "output_type": "execute_result",
          "data": {
            "text/plain": [
              "10589.835311802195"
            ]
          },
          "metadata": {},
          "execution_count": 16
        }
      ],
      "source": [
        "# Standard deviation\n",
        "np.sqrt(df_car['price_spread'].sum()/(len(df_car['price_spread'])-1))"
      ]
    },
    {
      "cell_type": "code",
      "execution_count": null,
      "metadata": {
        "id": "x44212EvUxTT",
        "outputId": "208905a4-24b5-49a3-e9b1-629aa800c1a5",
        "colab": {
          "base_uri": "https://localhost:8080/"
        }
      },
      "outputs": [
        {
          "output_type": "execute_result",
          "data": {
            "text/plain": [
              "11992.0"
            ]
          },
          "metadata": {},
          "execution_count": 17
        }
      ],
      "source": [
        "# IQR\n",
        "q1 = df_car['price'].quantile(0.25)\n",
        "q3 = df_car['price'].quantile(0.75)\n",
        "IQR = q3 - q1\n",
        "IQR\n"
      ]
    },
    {
      "cell_type": "code",
      "source": [
        "df_car_price_stat = df_car['price'].describe()\n",
        "\n",
        "q1 = df_car_price_stat['25%']\n",
        "q2 = df_car_price_stat['50%']\n",
        "q3 = df_car_price_stat['75%']\n",
        "\n",
        "print('Measure of Spread Kolom Price:')\n",
        "print('Q1 = ',q1)\n",
        "print('Q2 = ',q2)\n",
        "print('Q3 = ',q3)\n",
        "print('Range = ',q3-q1)\n",
        "print('Variance = ',df_car['price'].var())\n",
        "print('Std. Deviasi = ',df_car['price'].std())\n"
      ],
      "metadata": {
        "colab": {
          "base_uri": "https://localhost:8080/"
        },
        "id": "tYN8uU1iFEOU",
        "outputId": "e3da0080-6771-4a43-cb89-47255265392f"
      },
      "execution_count": null,
      "outputs": [
        {
          "output_type": "stream",
          "name": "stdout",
          "text": [
            "Measure of Spread Kolom Price:\n",
            "Q1 =  9999.0\n",
            "Q2 =  14999.0\n",
            "Q3 =  21991.0\n",
            "Range =  11992.0\n",
            "Variance =  112144611.93109098\n",
            "Std. Deviasi =  10589.835311802115\n"
          ]
        }
      ]
    },
    {
      "cell_type": "markdown",
      "metadata": {
        "id": "3mPomWQpUxTU"
      },
      "source": [
        "# **No.6**"
      ]
    },
    {
      "cell_type": "markdown",
      "metadata": {
        "id": "fF6yRM1wUxTU"
      },
      "source": [
        "##  **Outliers/Pencilan**\n",
        "### Outliers = Extreme Case = Nilai yang sangat jauh dari nilai lainnya pada suatu dataset\n",
        "(Bruce, 2021)"
      ]
    },
    {
      "cell_type": "code",
      "execution_count": null,
      "metadata": {
        "id": "pa00dVnJUxTV",
        "outputId": "9882b04a-8c15-44cd-8881-c5a08449fc9f",
        "colab": {
          "base_uri": "https://localhost:8080/"
        }
      },
      "outputs": [
        {
          "output_type": "stream",
          "name": "stdout",
          "text": [
            "Batas atas  : 39979.0\n",
            "Batas bawah : -7989.0\n",
            "Jumlah outliers: 808\n"
          ]
        }
      ],
      "source": [
        "# Apakah ada Outlier pada kolom 'price'? Kalau ada, berapa banyak data yang merupakan outliers?\n",
        "lower = q1 - 1.5*IQR\n",
        "upper = q3 + 1.5*IQR\n",
        "\n",
        "# Outlier adalah data yg di luar Batas Atas dan Batas Bawah\n",
        "outlier = df_car[(df_car['price']<lower) | (df_car['price']>upper)]\n",
        "outlier\n",
        "# df_car[(df_car['price']<lower)]\n",
        "# df_car[(df_car['price']>upper)]\n",
        "\n",
        "print('Batas atas  :', upper)\n",
        "print('Batas bawah :', lower)\n",
        "\n",
        "print('Jumlah outliers:', len(outlier))"
      ]
    },
    {
      "cell_type": "code",
      "source": [
        "#6 Ada, 808 data\n",
        "df_car['price'].min() #850\n",
        "df_car['price'].max() #145000\n",
        "\n",
        "q1 = df_car['price'].describe()['25%']\n",
        "q3 = df_car['price'].describe()['75%']\n",
        "\n",
        "iqr = q3 - q1\n",
        "\n",
        "min_iqr = q1 - (1.5 * iqr)\n",
        "max_iqr = q3 + (1.5 * iqr)\n",
        "\n",
        "print(min_iqr) #-7989.0\n",
        "print(max_iqr) #39979.0\n",
        "\n",
        "#nilai max > max_iqr -> data memiliki high outlier\n",
        "\n",
        "outliers = []\n",
        "\n",
        "for i in df_car['price']:\n",
        "    if (i > max_iqr):\n",
        "        outliers.append(i)\n",
        "\n",
        "print('outlier price : ', outliers)\n",
        "\n",
        "#\n",
        "print(len(outliers)) #808"
      ],
      "metadata": {
        "id": "e-TwBcAvblcM",
        "colab": {
          "base_uri": "https://localhost:8080/"
        },
        "outputId": "50e1761b-c7a2-44f4-8cad-3546eb7a21a4"
      },
      "execution_count": null,
      "outputs": [
        {
          "output_type": "stream",
          "name": "stdout",
          "text": [
            "-7989.0\n",
            "39979.0\n",
            "outlier price :  [62985, 44985, 39985, 45485, 49985, 59995, 47895, 43885, 46985, 56985, 43785, 47995, 46000, 52985, 63985, 82995, 39995, 40780, 49995, 41995, 47995, 46990, 57995, 39995, 39995, 41995, 48136, 40990, 50414, 59995, 58995, 53939, 49990, 48995, 39995, 39995, 48995, 52995, 69995, 51995, 60995, 42995, 43495, 42995, 49995, 52995, 52995, 83995, 41995, 42000, 45000, 55500, 42500, 50000, 41495, 49995, 46000, 40995, 41888, 58990, 45995, 40495, 43990, 39996, 49991, 45251, 56996, 44990, 84496, 53990, 49496, 46888, 63796, 56991, 52496, 42996, 59996, 43996, 54998, 39990, 50950, 48985, 44990, 49490, 56490, 46999, 43490, 54490, 44999, 43888, 44999, 49990, 129000, 46450, 42500, 43500, 43888, 53990, 77888, 53990, 51995, 47995, 45991, 49990, 49990, 54950, 44636, 52500, 48950, 59990, 47490, 47992, 43995, 49995, 43995, 51995, 58495, 137995, 52495, 41995, 47995, 54995, 54495, 43500, 48950, 45000, 44880, 69995, 40800, 49865, 42840, 49000, 39995, 43395, 48995, 49995, 45995, 43695, 47949, 64995, 48995, 48206, 44990, 52422, 45890, 63912, 56894, 51862, 43946, 61900, 65290, 48490, 56990, 55495, 48500, 46500, 50786, 44212, 51991, 47816, 41606, 43990, 44300, 54883, 55292, 48642, 43475, 46426, 51595, 47916, 45912, 43244, 40970, 64842, 53981, 46456, 40892, 39999, 62000, 42500, 48255, 58500, 57000, 40755, 125000, 135000, 56000, 48000, 41718, 89750, 41750, 40991, 46992, 39991, 44991, 39999, 53491, 69691, 44990, 39991, 40000, 42500, 46000, 41500, 55500, 97500, 41000, 47750, 59750, 50000, 51000, 45000, 40000, 41000, 56000, 46000, 50000, 40000, 45990, 54490, 43490, 43490, 112990, 39990, 47490, 47990, 51990, 45250, 51990, 44990, 66990, 60000, 43990, 40990, 41490, 45990, 62990, 49990, 66990, 84999, 54990, 41990, 44990, 57990, 60000, 45490, 59990, 53490, 46750, 43750, 55000, 44000, 46000, 47000, 47000, 39990, 137500, 41000, 52850, 49850, 49000, 53950, 47850, 55900, 44495, 86995, 42995, 53850, 47850, 49850, 39995, 46850, 55995, 49495, 51495, 52850, 93950, 102544, 56990, 53990, 49990, 41990, 62990, 40790, 61990, 43490, 53990, 49990, 56990, 53990, 62990, 41990, 66990, 49990, 39990, 54490, 40990, 49990, 47990, 44990, 49490, 60000, 55990, 59750, 45000, 56900, 68000, 47000, 42991, 46750, 43880, 48022, 67990, 53990, 52990, 45990, 59990, 86990, 44033, 50576, 84990, 59990, 58216, 48266, 71990, 117990, 51250, 39990, 56990, 51990, 54990, 42990, 145000, 49850, 52990, 54990, 64990, 47990, 48990, 56990, 52990, 51990, 51990, 46990, 39990, 48000, 39990, 43990, 54000, 42500, 58990, 60990, 55990, 67000, 47500, 125000, 53500, 70990, 57490, 76990, 59990, 109990, 66990, 40990, 51990, 59000, 39990, 66990, 52990, 47990, 43990, 49490, 54990, 51990, 47990, 39990, 50990, 65990, 39990, 54850, 51490, 43990, 72990, 54990, 46990, 62990, 45990, 39990, 54990, 39990, 59990, 47990, 39995, 44990, 89990, 48990, 45990, 45990, 61490, 47990, 40990, 49990, 48990, 51995, 39995, 49990, 52990, 48990, 43541, 45990, 45990, 45790, 49981, 94990, 50990, 42950, 44950, 42989, 43890, 46212, 53900, 56000, 53000, 133900, 52000, 45000, 78000, 48500, 49000, 69000, 58000, 52000, 60000, 44000, 44500, 42450, 41850, 56950, 47850, 54950, 42500, 56950, 57970, 41995, 45500, 46850, 46500, 42500, 42500, 116000, 47450, 59450, 51950, 41750, 43990, 62900, 40990, 54995, 54950, 45000, 54500, 44990, 49900, 54000, 47000, 44500, 46990, 59950, 45950, 67900, 63950, 56400, 53900, 43990, 50000, 41000, 79900, 45950, 45450, 43990, 43700, 46990, 46400, 40900, 53945, 46490, 66950, 41890, 40945, 45490, 55450, 51990, 51970, 41970, 42970, 41970, 53870, 55970, 62950, 42970, 43970, 42470, 54950, 48450, 52450, 49950, 42950, 47950, 58450, 46950, 42900, 49900, 56900, 56900, 48750, 43900, 41950, 51950, 44450, 109495, 44990, 59450, 46450, 48850, 53900, 41900, 48895, 61795, 42800, 47895, 62790, 53990, 45450, 73495, 51895, 42888, 45690, 58450, 49990, 41990, 49950, 53990, 42888, 44950, 46465, 39990, 47990, 52950, 42950, 55750, 56950, 56950, 51750, 42750, 43950, 44750, 53999, 45499, 40399, 55990, 47000, 52000, 49750, 41500, 54000, 51500, 71450, 42950, 53450, 72995, 69950, 44990, 40995, 119450, 52950, 45995, 52995, 51950, 51900, 85900, 53750, 43900, 42500, 55490, 55990, 39990, 47995, 59995, 54979, 49400, 49989, 47990, 56990, 66000, 52000, 63000, 40995, 53000, 44990, 51990, 119995, 54995, 59990, 53990, 42888, 42888, 42444, 44790, 52888, 49790, 56900, 49995, 47990, 51990, 44444, 44944, 40444, 57888, 45990, 63888, 45888, 47990, 44888, 48800, 54950, 58450, 47555, 44450, 41719, 61700, 41000, 50888, 45000, 56450, 41888, 51990, 46990, 56990, 41990, 59950, 41880, 82930, 43930, 43930, 52600, 43930, 46480, 49800, 43950, 45850, 60750, 47950, 49750, 46950, 53950, 45950, 54950, 61950, 54950, 95950, 46950, 74950, 43950, 45950, 48950, 44491, 55750, 49500, 54500, 44991, 43990, 43990, 45990, 39990, 42490, 53990, 54990, 47990, 42990, 47990, 51990, 42490, 67990, 41990, 59990, 49990, 41799, 41495, 78990, 53490, 45490, 54900, 43990, 39995, 56795, 45990, 49495, 67495, 44990, 44990, 39990, 44750, 51450, 60950, 59450, 49950, 44950, 45990, 44950, 54945, 70950, 47000, 45800, 59900, 47200, 43000, 42000, 43000, 40000, 65000, 45000, 44490, 74500, 50000, 57895, 53000, 52495, 69890, 44490, 43895, 48000, 43950, 44950, 42950, 59950, 104948, 50000, 50000, 72500, 45000, 46500, 48500, 47500, 46490, 44500, 48790, 43000, 44000, 48000, 46000, 125000, 70000, 42992, 59500, 51495, 42750, 58000, 51000, 52950, 46950, 49000, 43000, 46000, 68000, 53792, 46395, 45595, 49990, 43995, 40365, 92000, 47990, 44995, 42444, 40999, 42995, 50995, 45995, 40995, 50995, 54991, 47795, 52291, 44935, 39995, 42990, 48995, 50995, 47885, 41499, 45950, 52990, 44995, 54550, 44990, 49995, 47498, 49994, 47500, 51995, 51995, 49990, 49991, 51995, 49499, 48950, 49490, 59995]\n",
            "808\n"
          ]
        }
      ]
    },
    {
      "cell_type": "code",
      "execution_count": null,
      "metadata": {
        "id": "JI7R4C_oUxTV",
        "outputId": "767680e5-b7cb-4eb9-916e-7ee5d820d645",
        "colab": {
          "base_uri": "https://localhost:8080/",
          "height": 335
        }
      },
      "outputs": [
        {
          "output_type": "stream",
          "name": "stderr",
          "text": [
            "/usr/local/lib/python3.7/dist-packages/seaborn/_decorators.py:43: FutureWarning: Pass the following variable as a keyword arg: x. From version 0.12, the only valid positional argument will be `data`, and passing other arguments without an explicit keyword will result in an error or misinterpretation.\n",
            "  FutureWarning\n"
          ]
        },
        {
          "output_type": "display_data",
          "data": {
            "text/plain": [
              "<Figure size 432x288 with 1 Axes>"
            ],
            "image/png": "[encoded data removed]"
          },
          "metadata": {
            "needs_background": "light"
          }
        }
      ],
      "source": [
        "sns.boxplot(df_car['price'])\n",
        "plt.show()"
      ]
    },
    {
      "cell_type": "markdown",
      "metadata": {
        "id": "a1m1cKbKUxTW"
      },
      "source": [
        "# **No.7**"
      ]
    },
    {
      "cell_type": "markdown",
      "source": [
        "**Menurut dari beberapa sumber di bawah:**\n",
        "1. https://docs.oracle.com/cd/E57185_01/CBREG/ch03s02s03s01.html\n",
        "1. https://community.gooddata.com/metrics-and-maql-kb-articles-43/normality-testing-skewness-and-kurtosis-241\n",
        "1. https://www.spcforexcel.com/knowledge/basic-statistics/are-skewness-and-kurtosis-useful-statistics#skewness\n",
        "<br>\n",
        "**rule of thumb nya adalah sbb:**\n",
        "\n",
        "    If the skewness is between -0.5 and 0.5, the data are fairly symmetrical\n",
        "    If the skewness is between -1 and – 0.5 or between 0.5 and 1, the data are moderately skewed\n",
        "    If the skewness is less than -1 or greater than 1, the data are highly skewed\n",
        "\n"
      ],
      "metadata": {
        "id": "-bJ1zXiyOcwJ"
      }
    },
    {
      "cell_type": "code",
      "execution_count": null,
      "metadata": {
        "id": "AIJox2LqUxTW",
        "outputId": "2500fc6a-6bdd-455f-90f1-dc20bdca8be2",
        "colab": {
          "base_uri": "https://localhost:8080/",
          "height": 112
        }
      },
      "outputs": [
        {
          "output_type": "execute_result",
          "data": {
            "text/plain": [
              "           id         year         price       mileage         tax        mpg  \\\n",
              "mean  11132.5  2016.995509  17542.591575  23501.863604  115.473592  55.151181   \n",
              "50%   11132.5  2017.000000  14999.000000  18354.000000  145.000000  55.400000   \n",
              "\n",
              "      engineSize  price_spread  \n",
              "mean    1.688489  1.121396e+08  \n",
              "50%     1.600000  4.163357e+07  "
            ],
            "text/html": [
              "\n",
              "  <div id=\"df-6a38b046-6207-4ab4-a08b-47bf2b304f8f\">\n",
              "    <div class=\"colab-df-container\">\n",
              "      <div>\n",
              "<style scoped>\n",
              "    .dataframe tbody tr th:only-of-type {\n",
              "        vertical-align: middle;\n",
              "    }\n",
              "\n",
              "    .dataframe tbody tr th {\n",
              "        vertical-align: top;\n",
              "    }\n",
              "\n",
              "    .dataframe thead th {\n",
              "        text-align: right;\n",
              "    }\n",
              "</style>\n",
              "<table border=\"1\" class=\"dataframe\">\n",
              "  <thead>\n",
              "    <tr style=\"text-align: right;\">\n",
              "      <th></th>\n",
              "      <th>id</th>\n",
              "      <th>year</th>\n",
              "      <th>price</th>\n",
              "      <th>mileage</th>\n",
              "      <th>tax</th>\n",
              "      <th>mpg</th>\n",
              "      <th>engineSize</th>\n",
              "      <th>price_spread</th>\n",
              "    </tr>\n",
              "  </thead>\n",
              "  <tbody>\n",
              "    <tr>\n",
              "      <th>mean</th>\n",
              "      <td>11132.5</td>\n",
              "      <td>2016.995509</td>\n",
              "      <td>17542.591575</td>\n",
              "      <td>23501.863604</td>\n",
              "      <td>115.473592</td>\n",
              "      <td>55.151181</td>\n",
              "      <td>1.688489</td>\n",
              "      <td>1.121396e+08</td>\n",
              "    </tr>\n",
              "    <tr>\n",
              "      <th>50%</th>\n",
              "      <td>11132.5</td>\n",
              "      <td>2017.000000</td>\n",
              "      <td>14999.000000</td>\n",
              "      <td>18354.000000</td>\n",
              "      <td>145.000000</td>\n",
              "      <td>55.400000</td>\n",
              "      <td>1.600000</td>\n",
              "      <td>4.163357e+07</td>\n",
              "    </tr>\n",
              "  </tbody>\n",
              "</table>\n",
              "</div>\n",
              "      <button class=\"colab-df-convert\" onclick=\"convertToInteractive('df-6a38b046-6207-4ab4-a08b-47bf2b304f8f')\"\n",
              "              title=\"Convert this dataframe to an interactive table.\"\n",
              "              style=\"display:none;\">\n",
              "        \n",
              "  <svg xmlns=\"http://www.w3.org/2000/svg\" height=\"24px\"viewBox=\"0 0 24 24\"\n",
              "       width=\"24px\">\n",
              "    <path d=\"M0 0h24v24H0V0z\" fill=\"none\"/>\n",
              "    <path d=\"M18.56 5.44l.94 2.06.94-2.06 2.06-.94-2.06-.94-.94-2.06-.94 2.06-2.06.94zm-11 1L8.5 8.5l.94-2.06 2.06-.94-2.06-.94L8.5 2.5l-.94 2.06-2.06.94zm10 10l.94 2.06.94-2.06 2.06-.94-2.06-.94-.94-2.06-.94 2.06-2.06.94z\"/><path d=\"M17.41 7.96l-1.37-1.37c-.4-.4-.92-.59-1.43-.59-.52 0-1.04.2-1.43.59L10.3 9.45l-7.72 7.72c-.78.78-.78 2.05 0 2.83L4 21.41c.39.39.9.59 1.41.59.51 0 1.02-.2 1.41-.59l7.78-7.78 2.81-2.81c.8-.78.8-2.07 0-2.86zM5.41 20L4 18.59l7.72-7.72 1.47 1.35L5.41 20z\"/>\n",
              "  </svg>\n",
              "      </button>\n",
              "      \n",
              "  <style>\n",
              "    .colab-df-container {\n",
              "      display:flex;\n",
              "      flex-wrap:wrap;\n",
              "      gap: 12px;\n",
              "    }\n",
              "\n",
              "    .colab-df-convert {\n",
              "      background-color: #E8F0FE;\n",
              "      border: none;\n",
              "      border-radius: 50%;\n",
              "      cursor: pointer;\n",
              "      display: none;\n",
              "      fill: #1967D2;\n",
              "      height: 32px;\n",
              "      padding: 0 0 0 0;\n",
              "      width: 32px;\n",
              "    }\n",
              "\n",
              "    .colab-df-convert:hover {\n",
              "      background-color: #E2EBFA;\n",
              "      box-shadow: 0px 1px 2px rgba(60, 64, 67, 0.3), 0px 1px 3px 1px rgba(60, 64, 67, 0.15);\n",
              "      fill: #174EA6;\n",
              "    }\n",
              "\n",
              "    [theme=dark] .colab-df-convert {\n",
              "      background-color: #3B4455;\n",
              "      fill: #D2E3FC;\n",
              "    }\n",
              "\n",
              "    [theme=dark] .colab-df-convert:hover {\n",
              "      background-color: #434B5C;\n",
              "      box-shadow: 0px 1px 3px 1px rgba(0, 0, 0, 0.15);\n",
              "      filter: drop-shadow(0px 1px 2px rgba(0, 0, 0, 0.3));\n",
              "      fill: #FFFFFF;\n",
              "    }\n",
              "  </style>\n",
              "\n",
              "      <script>\n",
              "        const buttonEl =\n",
              "          document.querySelector('#df-6a38b046-6207-4ab4-a08b-47bf2b304f8f button.colab-df-convert');\n",
              "        buttonEl.style.display =\n",
              "          google.colab.kernel.accessAllowed ? 'block' : 'none';\n",
              "\n",
              "        async function convertToInteractive(key) {\n",
              "          const element = document.querySelector('#df-6a38b046-6207-4ab4-a08b-47bf2b304f8f');\n",
              "          const dataTable =\n",
              "            await google.colab.kernel.invokeFunction('convertToInteractive',\n",
              "                                                     [key], {});\n",
              "          if (!dataTable) return;\n",
              "\n",
              "          const docLinkHtml = 'Like what you see? Visit the ' +\n",
              "            '<a target=\"_blank\" href=https://colab.research.google.com/notebooks/data_table.ipynb>data table notebook</a>'\n",
              "            + ' to learn more about interactive tables.';\n",
              "          element.innerHTML = '';\n",
              "          dataTable['output_type'] = 'display_data';\n",
              "          await google.colab.output.renderOutput(dataTable, element);\n",
              "          const docLink = document.createElement('div');\n",
              "          docLink.innerHTML = docLinkHtml;\n",
              "          element.appendChild(docLink);\n",
              "        }\n",
              "      </script>\n",
              "    </div>\n",
              "  </div>\n",
              "  "
            ]
          },
          "metadata": {},
          "execution_count": 23
        }
      ],
      "source": [
        "# Variabel/kolom apa saja yang memiliki distribusi skewed ke kanan\n",
        "df_car.describe().loc[['mean','50%']]\n",
        "\n",
        "# skewed ke kanan (mean > median):\n",
        "# price, mileage, engine?, engineSize, price_spread"
      ]
    },
    {
      "cell_type": "code",
      "source": [
        "df_car.skew(axis = 0)"
      ],
      "metadata": {
        "colab": {
          "base_uri": "https://localhost:8080/"
        },
        "id": "U8Cf69K8cZFE",
        "outputId": "5890bc36-9e36-4f3a-b26c-f8495d6aa14a"
      },
      "execution_count": null,
      "outputs": [
        {
          "output_type": "stream",
          "name": "stderr",
          "text": [
            "/usr/local/lib/python3.7/dist-packages/ipykernel_launcher.py:1: FutureWarning: Dropping of nuisance columns in DataFrame reductions (with 'numeric_only=None') is deprecated; in a future version this will raise TypeError.  Select only valid columns before calling the reduction.\n",
            "  \"\"\"Entry point for launching an IPython kernel.\n"
          ]
        },
        {
          "output_type": "execute_result",
          "data": {
            "text/plain": [
              "id            0.000000\n",
              "year         -1.749698\n",
              "price         2.307306\n",
              "mileage       1.704350\n",
              "tax           0.146389\n",
              "mpg           2.439082\n",
              "engineSize    1.184779\n",
              "dtype: float64"
            ]
          },
          "metadata": {},
          "execution_count": 16
        }
      ]
    },
    {
      "cell_type": "code",
      "source": [
        "ListColumn = list(df_car.skew()[df_car.skew() > 0].index)\n",
        "\n",
        "print(ListColumn)"
      ],
      "metadata": {
        "colab": {
          "base_uri": "https://localhost:8080/"
        },
        "id": "73MpNVRrHxz6",
        "outputId": "bf5a8c49-d78f-4011-c187-40b8ca95a8c8"
      },
      "execution_count": null,
      "outputs": [
        {
          "output_type": "stream",
          "name": "stdout",
          "text": [
            "['price', 'mileage', 'tax', 'mpg', 'engineSize', 'price_spread']\n"
          ]
        },
        {
          "output_type": "stream",
          "name": "stderr",
          "text": [
            "/usr/local/lib/python3.7/dist-packages/ipykernel_launcher.py:1: FutureWarning: Dropping of nuisance columns in DataFrame reductions (with 'numeric_only=None') is deprecated; in a future version this will raise TypeError.  Select only valid columns before calling the reduction.\n",
            "  \"\"\"Entry point for launching an IPython kernel.\n"
          ]
        }
      ]
    },
    {
      "cell_type": "markdown",
      "metadata": {
        "id": "gxKd-nZpUxTX"
      },
      "source": [
        "# **No.8**"
      ]
    },
    {
      "cell_type": "markdown",
      "source": [
        "# Ho : sample terdistribusi normal\n",
        "# Ha : sample TIDAK terdistribusi normal\n",
        "\n",
        "# p-value >= 0.05 : accept Ho --> sample terdistribusi normal\n",
        "# p-value < 0.05 : reject Ho --> sample TIDAK terdistribusi normal (Ha)"
      ],
      "metadata": {
        "id": "Rw3j1s69IoV_"
      }
    },
    {
      "cell_type": "code",
      "source": [
        "from scipy.stats import kstest\n",
        "\n",
        "ks_statistics, ks_pvalue = kstest(df_car['mileage'], 'norm')\n",
        "if ks_pvalue >= 0.05 :\n",
        "    print(f'P-Value : {ks_pvalue}.So, we assume a normal distribution')\n",
        "else :\n",
        "    print(f'P-Value : {ks_pvalue}.So, we do not assume a normal distribution')"
      ],
      "metadata": {
        "colab": {
          "base_uri": "https://localhost:8080/"
        },
        "id": "ORxza9oJeMAn",
        "outputId": "2573dddb-e14b-412b-c625-a926c109c93b"
      },
      "execution_count": null,
      "outputs": [
        {
          "output_type": "stream",
          "name": "stdout",
          "text": [
            "P-Value : 0.0.So, we do not assume a normal distribution\n"
          ]
        }
      ]
    },
    {
      "cell_type": "code",
      "execution_count": null,
      "metadata": {
        "id": "Ai1gOZXOUxTY",
        "outputId": "da1c606c-6a72-4b72-c90f-08d6bbce59e9",
        "colab": {
          "base_uri": "https://localhost:8080/"
        }
      },
      "outputs": [
        {
          "output_type": "stream",
          "name": "stdout",
          "text": [
            "p-value mileage : 0.0000000000\n",
            "Kolom mileage TIDAK terdistribusi normal\n"
          ]
        }
      ],
      "source": [
        "# Nilai Mean dan Median dari kolom 'mileage' berbeda jauh. Coba buktikan apakah distribusi kolom tersebut normal atau tidak!\n",
        "def normal(kolom):\n",
        "    stat, pvalue = stats.normaltest(kolom)\n",
        "    print(f'p-value {kolom.name} : {pvalue:.10f}' )\n",
        "\n",
        "\n",
        "    if pvalue < 0.05:\n",
        "        print(f'Kolom {kolom.name} TIDAK terdistribusi normal')\n",
        "    else:\n",
        "        print(f'Kolom {kolom.name} terdistribusi normal')\n",
        "\n",
        "normal(df_car['mileage'])"
      ]
    },
    {
      "cell_type": "code",
      "execution_count": null,
      "metadata": {
        "id": "IPxr041TUxTZ",
        "outputId": "5512cd45-faba-41ec-950b-c33a3569ed04",
        "colab": {
          "base_uri": "https://localhost:8080/",
          "height": 112
        }
      },
      "outputs": [
        {
          "output_type": "execute_result",
          "data": {
            "text/plain": [
              "           mileage\n",
              "mean  23501.863604\n",
              "50%   18354.000000"
            ],
            "text/html": [
              "\n",
              "  <div id=\"df-00aac2e9-2276-45b0-9212-b1f0930e09fe\">\n",
              "    <div class=\"colab-df-container\">\n",
              "      <div>\n",
              "<style scoped>\n",
              "    .dataframe tbody tr th:only-of-type {\n",
              "        vertical-align: middle;\n",
              "    }\n",
              "\n",
              "    .dataframe tbody tr th {\n",
              "        vertical-align: top;\n",
              "    }\n",
              "\n",
              "    .dataframe thead th {\n",
              "        text-align: right;\n",
              "    }\n",
              "</style>\n",
              "<table border=\"1\" class=\"dataframe\">\n",
              "  <thead>\n",
              "    <tr style=\"text-align: right;\">\n",
              "      <th></th>\n",
              "      <th>mileage</th>\n",
              "    </tr>\n",
              "  </thead>\n",
              "  <tbody>\n",
              "    <tr>\n",
              "      <th>mean</th>\n",
              "      <td>23501.863604</td>\n",
              "    </tr>\n",
              "    <tr>\n",
              "      <th>50%</th>\n",
              "      <td>18354.000000</td>\n",
              "    </tr>\n",
              "  </tbody>\n",
              "</table>\n",
              "</div>\n",
              "      <button class=\"colab-df-convert\" onclick=\"convertToInteractive('df-00aac2e9-2276-45b0-9212-b1f0930e09fe')\"\n",
              "              title=\"Convert this dataframe to an interactive table.\"\n",
              "              style=\"display:none;\">\n",
              "        \n",
              "  <svg xmlns=\"http://www.w3.org/2000/svg\" height=\"24px\"viewBox=\"0 0 24 24\"\n",
              "       width=\"24px\">\n",
              "    <path d=\"M0 0h24v24H0V0z\" fill=\"none\"/>\n",
              "    <path d=\"M18.56 5.44l.94 2.06.94-2.06 2.06-.94-2.06-.94-.94-2.06-.94 2.06-2.06.94zm-11 1L8.5 8.5l.94-2.06 2.06-.94-2.06-.94L8.5 2.5l-.94 2.06-2.06.94zm10 10l.94 2.06.94-2.06 2.06-.94-2.06-.94-.94-2.06-.94 2.06-2.06.94z\"/><path d=\"M17.41 7.96l-1.37-1.37c-.4-.4-.92-.59-1.43-.59-.52 0-1.04.2-1.43.59L10.3 9.45l-7.72 7.72c-.78.78-.78 2.05 0 2.83L4 21.41c.39.39.9.59 1.41.59.51 0 1.02-.2 1.41-.59l7.78-7.78 2.81-2.81c.8-.78.8-2.07 0-2.86zM5.41 20L4 18.59l7.72-7.72 1.47 1.35L5.41 20z\"/>\n",
              "  </svg>\n",
              "      </button>\n",
              "      \n",
              "  <style>\n",
              "    .colab-df-container {\n",
              "      display:flex;\n",
              "      flex-wrap:wrap;\n",
              "      gap: 12px;\n",
              "    }\n",
              "\n",
              "    .colab-df-convert {\n",
              "      background-color: #E8F0FE;\n",
              "      border: none;\n",
              "      border-radius: 50%;\n",
              "      cursor: pointer;\n",
              "      display: none;\n",
              "      fill: #1967D2;\n",
              "      height: 32px;\n",
              "      padding: 0 0 0 0;\n",
              "      width: 32px;\n",
              "    }\n",
              "\n",
              "    .colab-df-convert:hover {\n",
              "      background-color: #E2EBFA;\n",
              "      box-shadow: 0px 1px 2px rgba(60, 64, 67, 0.3), 0px 1px 3px 1px rgba(60, 64, 67, 0.15);\n",
              "      fill: #174EA6;\n",
              "    }\n",
              "\n",
              "    [theme=dark] .colab-df-convert {\n",
              "      background-color: #3B4455;\n",
              "      fill: #D2E3FC;\n",
              "    }\n",
              "\n",
              "    [theme=dark] .colab-df-convert:hover {\n",
              "      background-color: #434B5C;\n",
              "      box-shadow: 0px 1px 3px 1px rgba(0, 0, 0, 0.15);\n",
              "      filter: drop-shadow(0px 1px 2px rgba(0, 0, 0, 0.3));\n",
              "      fill: #FFFFFF;\n",
              "    }\n",
              "  </style>\n",
              "\n",
              "      <script>\n",
              "        const buttonEl =\n",
              "          document.querySelector('#df-00aac2e9-2276-45b0-9212-b1f0930e09fe button.colab-df-convert');\n",
              "        buttonEl.style.display =\n",
              "          google.colab.kernel.accessAllowed ? 'block' : 'none';\n",
              "\n",
              "        async function convertToInteractive(key) {\n",
              "          const element = document.querySelector('#df-00aac2e9-2276-45b0-9212-b1f0930e09fe');\n",
              "          const dataTable =\n",
              "            await google.colab.kernel.invokeFunction('convertToInteractive',\n",
              "                                                     [key], {});\n",
              "          if (!dataTable) return;\n",
              "\n",
              "          const docLinkHtml = 'Like what you see? Visit the ' +\n",
              "            '<a target=\"_blank\" href=https://colab.research.google.com/notebooks/data_table.ipynb>data table notebook</a>'\n",
              "            + ' to learn more about interactive tables.';\n",
              "          element.innerHTML = '';\n",
              "          dataTable['output_type'] = 'display_data';\n",
              "          await google.colab.output.renderOutput(dataTable, element);\n",
              "          const docLink = document.createElement('div');\n",
              "          docLink.innerHTML = docLinkHtml;\n",
              "          element.appendChild(docLink);\n",
              "        }\n",
              "      </script>\n",
              "    </div>\n",
              "  </div>\n",
              "  "
            ]
          },
          "metadata": {},
          "execution_count": 18
        }
      ],
      "source": [
        "# perbedaan Mean dan Median dari 'mileage'\n",
        "df_car.describe().loc[['mean','50%']][['mileage']]"
      ]
    },
    {
      "cell_type": "code",
      "execution_count": null,
      "metadata": {
        "id": "LE06tBAFUxTZ",
        "outputId": "180a6bcb-1687-4f68-efe1-1e5683f106ce",
        "colab": {
          "base_uri": "https://localhost:8080/",
          "height": 335
        }
      },
      "outputs": [
        {
          "output_type": "stream",
          "name": "stderr",
          "text": [
            "/usr/local/lib/python3.7/dist-packages/seaborn/distributions.py:2619: FutureWarning: `distplot` is a deprecated function and will be removed in a future version. Please adapt your code to use either `displot` (a figure-level function with similar flexibility) or `histplot` (an axes-level function for histograms).\n",
            "  warnings.warn(msg, FutureWarning)\n"
          ]
        },
        {
          "output_type": "display_data",
          "data": {
            "text/plain": [
              "<Figure size 432x288 with 1 Axes>"
            ],
            "image/png": "[encoded data removed]"
          },
          "metadata": {
            "needs_background": "light"
          }
        }
      ],
      "source": [
        "# Histogram\n",
        "sns.distplot(df_car['mileage'], bins=20, kde=False)\n",
        "plt.show()"
      ]
    },
    {
      "cell_type": "code",
      "execution_count": null,
      "metadata": {
        "id": "YJiRZ-lHUxTa",
        "outputId": "de5cb32e-1fcd-4923-fa71-345cdf60f152",
        "colab": {
          "base_uri": "https://localhost:8080/"
        }
      },
      "outputs": [
        {
          "output_type": "execute_result",
          "data": {
            "text/plain": [
              "0.4491152429713465"
            ]
          },
          "metadata": {},
          "execution_count": 28
        }
      ],
      "source": [
        "frekuensi = 10000 # (perkiraan) # berapakali mobil dengan mileage antara 1-16150 muncul\n",
        "jml_mobil = df_car['mileage'].count() # jumlah keseluruhan mobil\n",
        "\n",
        "prob2 = frekuensi/jml_mobil\n",
        "prob2"
      ]
    },
    {
      "cell_type": "code",
      "execution_count": null,
      "metadata": {
        "id": "8FJD7o8pUxTb",
        "outputId": "bc1792d4-1752-4ef2-b45d-bdfb767b27d7",
        "colab": {
          "base_uri": "https://localhost:8080/",
          "height": 364
        }
      },
      "outputs": [
        {
          "output_type": "stream",
          "name": "stderr",
          "text": [
            "/usr/local/lib/python3.7/dist-packages/seaborn/distributions.py:2619: FutureWarning: `distplot` is a deprecated function and will be removed in a future version. Please adapt your code to use either `displot` (a figure-level function with similar flexibility) or `histplot` (an axes-level function for histograms).\n",
            "  warnings.warn(msg, FutureWarning)\n"
          ]
        },
        {
          "output_type": "execute_result",
          "data": {
            "text/plain": [
              "<matplotlib.axes._subplots.AxesSubplot at 0x7f3013071bd0>"
            ]
          },
          "metadata": {},
          "execution_count": 29
        },
        {
          "output_type": "display_data",
          "data": {
            "text/plain": [
              "<Figure size 432x288 with 1 Axes>"
            ],
            "image/png": "[encoded data removed]"
          },
          "metadata": {
            "needs_background": "light"
          }
        }
      ],
      "source": [
        "# Density plot\n",
        "sns.distplot(df_car['mileage'], bins=20, kde=True)"
      ]
    },
    {
      "cell_type": "code",
      "execution_count": null,
      "metadata": {
        "id": "K8J09JVlUxTb",
        "outputId": "3d1db64f-4fca-434c-b9f5-0f72a2e5d716",
        "colab": {
          "base_uri": "https://localhost:8080/"
        }
      },
      "outputs": [
        {
          "output_type": "execute_result",
          "data": {
            "text/plain": [
              "0.46835"
            ]
          },
          "metadata": {},
          "execution_count": 30
        }
      ],
      "source": [
        "# probability untuk mendapatkan nilai mileage antara 1-16150\n",
        "alas = df_car['mileage'].max()/20 # rentang nilai mileage antara 1-16150\n",
        "tinggi = 0.000029 # probability density\n",
        "\n",
        "prob = alas * tinggi\n",
        "prob"
      ]
    },
    {
      "cell_type": "code",
      "execution_count": null,
      "metadata": {
        "id": "TlExd3FEUxTb",
        "outputId": "e88eb3ea-99b9-46bc-8845-18b950bed3a3",
        "colab": {
          "base_uri": "https://localhost:8080/"
        }
      },
      "outputs": [
        {
          "output_type": "execute_result",
          "data": {
            "text/plain": [
              "array([1.0000000e+00, 1.6150950e+04, 3.2300900e+04, 4.8450850e+04,\n",
              "       6.4600800e+04, 8.0750750e+04, 9.6900700e+04, 1.1305065e+05,\n",
              "       1.2920060e+05, 1.4535055e+05, 1.6150050e+05, 1.7765045e+05,\n",
              "       1.9380040e+05, 2.0995035e+05, 2.2610030e+05, 2.4225025e+05,\n",
              "       2.5840020e+05, 2.7455015e+05, 2.9070010e+05, 3.0685005e+05,\n",
              "       3.2300000e+05])"
            ]
          },
          "metadata": {},
          "execution_count": 25
        }
      ],
      "source": [
        "np.linspace(df_car['mileage'].min(), df_car['mileage'].max(), 21)"
      ]
    },
    {
      "cell_type": "markdown",
      "metadata": {
        "id": "X4D3EgoeUxTc"
      },
      "source": [
        "# **No.9**"
      ]
    },
    {
      "cell_type": "markdown",
      "metadata": {
        "id": "SXOKzkmeUxTc"
      },
      "source": [
        "## Grafik apa yang tepat untuk menampilkan visualisasi:\n",
        "\n",
        ">### **Brand vs Price?** barplot (cat vs num)\n",
        ">### **Price vs Mileage?** scatterplot (num vs num)\n",
        ">### **Frequency distribution of Mileage?** (histogram)\n"
      ]
    },
    {
      "cell_type": "code",
      "source": [
        "sns.barplot(x='brand',y='price',data=df_car, palette='RdPu_r')\n",
        "plt.show()"
      ],
      "metadata": {
        "colab": {
          "base_uri": "https://localhost:8080/",
          "height": 279
        },
        "id": "h4hxJ4EBLJsp",
        "outputId": "9a2602bc-5a74-4e54-fafc-15585e390864"
      },
      "execution_count": null,
      "outputs": [
        {
          "output_type": "display_data",
          "data": {
            "text/plain": [
              "<Figure size 432x288 with 1 Axes>"
            ],
            "image/png": "[encoded data removed]"
          },
          "metadata": {
            "needs_background": "light"
          }
        }
      ]
    },
    {
      "cell_type": "code",
      "source": [
        "sns.scatterplot(data=df_car,x='price',y='mileage',hue='brand',palette='RdPu_r')\n",
        "plt.show()"
      ],
      "metadata": {
        "colab": {
          "base_uri": "https://localhost:8080/",
          "height": 279
        },
        "id": "GSAt56aeLb-V",
        "outputId": "d68f31ff-3d49-470a-9128-bbb2b1b08cd8"
      },
      "execution_count": null,
      "outputs": [
        {
          "output_type": "display_data",
          "data": {
            "text/plain": [
              "<Figure size 432x288 with 1 Axes>"
            ],
            "image/png": "[encoded data removed]"
          },
          "metadata": {
            "needs_background": "light"
          }
        }
      ]
    },
    {
      "cell_type": "code",
      "source": [
        "sns.histplot(df_car['mileage'],color='#800080')\n",
        "plt.show()"
      ],
      "metadata": {
        "colab": {
          "base_uri": "https://localhost:8080/",
          "height": 279
        },
        "id": "WRNLxndIMFZw",
        "outputId": "9648d981-6246-4d44-d045-4c21d14e50a5"
      },
      "execution_count": null,
      "outputs": [
        {
          "output_type": "display_data",
          "data": {
            "text/plain": [
              "<Figure size 432x288 with 1 Axes>"
            ],
            "image/png": "[encoded data removed]"
          },
          "metadata": {
            "needs_background": "light"
          }
        }
      ]
    }
  ],
  "metadata": {
    "interpreter": {
      "hash": "37eb40c3388cfde35488e2d005b0d69ca91ddeff8a429754d4da636d3f888e5e"
    },
    "kernelspec": {
      "display_name": "Python 3.7.6 64-bit ('base': conda)",
      "name": "python3"
    },
    "language_info": {
      "codemirror_mode": {
        "name": "ipython",
        "version": 3
      },
      "file_extension": ".py",
      "mimetype": "text/x-python",
      "name": "python",
      "nbconvert_exporter": "python",
      "pygments_lexer": "ipython3",
      "version": "3.7.6"
    },
    "orig_nbformat": 4,
    "colab": {
      "provenance": [],
      "toc_visible": true
    }
  },
  "nbformat": 4,
  "nbformat_minor": 0
}